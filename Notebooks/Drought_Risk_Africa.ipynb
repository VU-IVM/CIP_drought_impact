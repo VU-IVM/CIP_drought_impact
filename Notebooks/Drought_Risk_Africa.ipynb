{
 "cells": [
  {
   "cell_type": "code",
   "execution_count": 4,
   "metadata": {},
   "outputs": [],
   "source": [
    "# Import working modules\n",
    "\n",
    "import xarray as xr\n",
    "import numpy as np\n",
    "import scipy.stats as stats\n",
    "import matplotlib\n",
    "import cartopy.crs as ccrs\n",
    "import matplotlib.pyplot as plt\n",
    "import pandas as pd\n",
    "import inspect, os, sys\n",
    "\n",
    "\n",
    "# Define paths\n",
    "workingfolder = os.path.dirname(os.path.abspath(inspect.getfile(inspect.currentframe())))\n",
    "\n",
    "if workingfolder.split('/')[-1] != 'Answers':\n",
    "    Notebooks_path = os.path.join(workingfolder, 'Notebooks')\n",
    "else:\n",
    "    Notebooks_path = os.path.join(workingfolder, '..', 'Notebooks')\n",
    "\n",
    "# adding path of notebooks to sys.path\n",
    "if Notebooks_path not in sys.path:\n",
    "    sys.path.append(Notebooks_path)\n",
    "import core_pp\n",
    "import func_SPI\n",
    "\n",
    "matplotlib.rcParams['font.size'] = 18\n",
    "matplotlib.rcParams['legend.fontsize'] = 'large'"
   ]
  },
  {
   "cell_type": "markdown",
   "metadata": {},
   "source": [
    "**Action**: Make sure that you define to the correct path and file in the code-box below. If needed, make changes to input_folder and input_file. Afterwards run the code by pressing *shift+enter*."
   ]
  },
  {
   "cell_type": "code",
   "execution_count": 5,
   "metadata": {},
   "outputs": [],
   "source": [
    "inputfolder   = os.path.join(workingfolder,'..', 'Data')\n",
    "\n",
    "# Name input file\n",
    "precip_file   = os.path.join(inputfolder,'p_1979-2018_Africa.nc')\n",
    "country_codes = os.path.join(inputfolder,'Africa_mask_Countries.nc')\n",
    "sst_Pacific   = os.path.join(inputfolder,'sst_1979-2018_Trop_Pacific.nc')"
   ]
  },
  {
   "cell_type": "markdown",
   "metadata": {},
   "source": [
    "## 2: Loading Precipitation and Potential Evaporation data"
   ]
  },
  {
   "cell_type": "markdown",
   "metadata": {},
   "source": [
    "You will now start with loading and inspecting the input data within Python Jupyter Notebooks. You will do this in the following code-box. Press *ctrl+enter* to run the code.\n",
    "\n",
    "**Action**: Load the data into the memory of this kernel."
   ]
  },
  {
   "cell_type": "code",
   "execution_count": 6,
   "metadata": {},
   "outputs": [],
   "source": [
    "precip_m  = core_pp.import_ds_lazy(precip_file)"
   ]
  },
  {
   "cell_type": "code",
   "execution_count": 7,
   "metadata": {},
   "outputs": [],
   "source": [
    "precip = precip_m * 1000\n",
    "precip.name = 'Precipitation [mm/day]'\n",
    "precip.attrs['units'] = '[mm/day]'"
   ]
  },
  {
   "cell_type": "markdown",
   "metadata": {},
   "source": [
    "### 2b: Retrieve land_sea_mask from country_codes\n",
    "First we will focus on quantifying drought in Kenya. In order to retrieve only data from that country, we load the 'country_codes'.\n",
    "\n",
    "**Action**: Load country_codes and select precipiation and evaporation of Kenya. "
   ]
  },
  {
   "cell_type": "code",
   "execution_count": 8,
   "metadata": {},
   "outputs": [],
   "source": [
    "country = xr.open_dataset(country_codes).country_mask\n",
    "land_sea_mask = country >= 1"
   ]
  },
  {
   "cell_type": "markdown",
   "metadata": {},
   "source": [
    "# Calculate ENSO 3.4 index"
   ]
  },
  {
   "cell_type": "markdown",
   "metadata": {},
   "source": [
    "### 3a: Calculating a spatial mean\n",
    "When calculating a spatial mean, one has to take into account that the earth is round, \n",
    "meaning that the equally spaced gridboxes do not represent equal surfaces of the earth. Admittendly, it will not matter much for countries close to the equator, but it is the neat thing to do. The function to take into account the differences in gridbox sizes is defined in the next cell."
   ]
  },
  {
   "cell_type": "code",
   "execution_count": 9,
   "metadata": {},
   "outputs": [],
   "source": [
    "def area_weighted(xarray):\n",
    "   # Area weighted, taking cos of latitude in radians     \n",
    "    coslat = np.cos(np.deg2rad(xarray.coords['latitude'].values)).clip(0., 1.)\n",
    "    area_weights = np.tile(coslat[..., np.newaxis],(1,xarray.longitude.size))\n",
    "    area_weights = area_weights / area_weights.mean()\n",
    "    return xr.DataArray(xarray.values * area_weights, coords=xarray.coords, \n",
    "                          dims=xarray.dims)"
   ]
  },
  {
   "cell_type": "markdown",
   "metadata": {},
   "source": [
    "With xarray, we can easily select the dimensions over which we want to do a computation. Thus for calculating the spatial mean we simply typ:"
   ]
  },
  {
   "cell_type": "code",
   "execution_count": 10,
   "metadata": {},
   "outputs": [],
   "source": [
    "sst_Pac  = core_pp.import_ds_lazy(sst_Pacific, format_lon='only_east')\n",
    "sst_enso = sst_Pac.sel(latitude=slice(10,-10), longitude=slice(190,240))\n",
    "\n",
    "Enso_34_raw = area_weighted(sst_enso).mean(dim=('latitude','longitude'))\n",
    "\n"
   ]
  },
  {
   "cell_type": "code",
   "execution_count": 11,
   "metadata": {},
   "outputs": [],
   "source": [
    "Enso_34_standard = (Enso_34_raw - Enso_34_raw.mean() ) / Enso_34_raw.std() "
   ]
  },
  {
   "cell_type": "markdown",
   "metadata": {},
   "source": [
    "Cell below calculates SPI for each land grid point, this costs quite some computational power. You can simply open the file that is already stored in the Data (input_folder). "
   ]
  },
  {
   "cell_type": "code",
   "execution_count": 12,
   "metadata": {},
   "outputs": [],
   "source": [
    "# SPI_aggregation = 6\n",
    "# precip_Africa = precip.where(land_sea_mask)\n",
    "# SPI_xr = func_SPI.calc_SPI_from_daily(precip_Africa, SPI_aggregation, freq='months')\n",
    "# filepath = os.path.join(inputfolder, 'SPI-6_Africa_monthly.nc')\n",
    "# SPI_xr.to_netcdf(filepath)"
   ]
  },
  {
   "cell_type": "markdown",
   "metadata": {},
   "source": [
    "**Action**: Load in the SPI_Africa_file in the cell below. See section 2: *Loading Precipitation and Potential Evaporation data*. To load a file, you need to pass the filename to core_pp.import_ds_lazy(). Note the filepath pointing towards the file 'SPI-6_Africa_monthly.nc' is not defined yet. "
   ]
  },
  {
   "cell_type": "code",
   "execution_count": 1,
   "metadata": {},
   "outputs": [
    {
     "ename": "SyntaxError",
     "evalue": "invalid syntax (<ipython-input-1-6e0a9e1a8378>, line 1)",
     "output_type": "error",
     "traceback": [
      "\u001b[0;36m  File \u001b[0;32m\"<ipython-input-1-6e0a9e1a8378>\"\u001b[0;36m, line \u001b[0;32m1\u001b[0m\n\u001b[0;31m    SPI_Africa_file = #string with the filepath pointing to the SPI-6_Africa_monthly.nc file.\u001b[0m\n\u001b[0m                                                                                             ^\u001b[0m\n\u001b[0;31mSyntaxError\u001b[0m\u001b[0;31m:\u001b[0m invalid syntax\n"
     ]
    }
   ],
   "source": [
    "SPI_Africa_file = #string with the filepath pointing to the SPI-6_Africa_monthly.nc file.\n",
    "SPI_6_Africa    = core_pp.import_ds_lazy()"
   ]
  },
  {
   "cell_type": "markdown",
   "metadata": {},
   "source": [
    "The cell below calculated the correlation coefficient and p-value for each gridpoint. The correlation coefficients is written to 'output', the significance (p-)values are written to 'sign'.  "
   ]
  },
  {
   "cell_type": "code",
   "execution_count": 13,
   "metadata": {
    "scrolled": true
   },
   "outputs": [
    {
     "ename": "NameError",
     "evalue": "name 'SPI_6_Africa' is not defined",
     "output_type": "error",
     "traceback": [
      "\u001b[0;31m---------------------------------------------------------------------------\u001b[0m",
      "\u001b[0;31mNameError\u001b[0m                                 Traceback (most recent call last)",
      "\u001b[0;32m<ipython-input-13-021c215b5c54>\u001b[0m in \u001b[0;36m<module>\u001b[0;34m()\u001b[0m\n\u001b[0;32m----> 1\u001b[0;31m \u001b[0mSPI_xr\u001b[0m \u001b[0;34m=\u001b[0m \u001b[0mSPI_6_Africa\u001b[0m\u001b[0;34m\u001b[0m\u001b[0m\n\u001b[0m\u001b[1;32m      2\u001b[0m \u001b[0;34m\u001b[0m\u001b[0m\n\u001b[1;32m      3\u001b[0m \u001b[0mEnso_34\u001b[0m   \u001b[0;34m=\u001b[0m \u001b[0mEnso_34_all\u001b[0m\u001b[0;34m.\u001b[0m\u001b[0msel\u001b[0m\u001b[0;34m(\u001b[0m\u001b[0mtime\u001b[0m\u001b[0;34m=\u001b[0m\u001b[0mSPI_xr\u001b[0m\u001b[0;34m.\u001b[0m\u001b[0mtime\u001b[0m\u001b[0;34m)\u001b[0m \u001b[0;31m# select matching dates\u001b[0m\u001b[0;34m\u001b[0m\u001b[0m\n\u001b[1;32m      4\u001b[0m \u001b[0mmask\u001b[0m \u001b[0;34m=\u001b[0m \u001b[0mSPI_xr\u001b[0m\u001b[0;34m[\u001b[0m\u001b[0;34m'mask'\u001b[0m\u001b[0;34m]\u001b[0m\u001b[0;34m\u001b[0m\u001b[0m\n\u001b[1;32m      5\u001b[0m \u001b[0moutput\u001b[0m \u001b[0;34m=\u001b[0m \u001b[0mSPI_xr\u001b[0m\u001b[0;34m[\u001b[0m\u001b[0;34m'mask'\u001b[0m\u001b[0;34m]\u001b[0m\u001b[0;34m.\u001b[0m\u001b[0mcopy\u001b[0m\u001b[0;34m(\u001b[0m\u001b[0;34m)\u001b[0m\u001b[0;34m.\u001b[0m\u001b[0mastype\u001b[0m\u001b[0;34m(\u001b[0m\u001b[0mfloat\u001b[0m\u001b[0;34m)\u001b[0m\u001b[0;34m\u001b[0m\u001b[0m\n",
      "\u001b[0;31mNameError\u001b[0m: name 'SPI_6_Africa' is not defined"
     ]
    }
   ],
   "source": [
    "SPI_xr = SPI_6_Africa\n",
    "\n",
    "dates_SPI_xr = pd.to_datetime(SPI_xr.time.values)\n",
    "Enso_34   = Enso_34_standard.sel(time=dates_SPI_xr) # select matching dates\n",
    "mask = SPI_xr['mask']\n",
    "output = SPI_xr['mask'].copy().astype(float)\n",
    "sign = SPI_xr['mask'].copy().astype(float)\n",
    "output_np = np.zeros_like(SPI_xr['mask'], dtype='float32')\n",
    "sign_np = np.zeros_like(SPI_xr['mask'], dtype='float32')\n",
    "latitude = SPI_xr.latitude\n",
    "longitude =SPI_xr.longitude\n",
    "lats,lons = np.meshgrid(latitude, longitude)\n",
    "latlon = (np.swapaxes(lats,1,0)[mask.values], np.swapaxes(lons,1,0)[mask.values])\n",
    "n_gs = len(np.swapaxes(lats,1,0)[mask.values])\n",
    "coords = [(latlon[0][i],latlon[1][i]) for i in range(n_gs)]\n",
    "for lat, lon in coords:\n",
    "    r, p = stats.pearsonr(Enso_34,SPI_xr.sel(latitude=lat, longitude=lon))\n",
    "    lat_idx = int(np.argwhere(latitude.values==lat)[0])\n",
    "    lon_idx = int(np.argwhere(longitude.values==lon)[0])\n",
    "    output_np[lat_idx, lon_idx] = r\n",
    "    sign_np[lat_idx, lon_idx] = p\n",
    "output.values = output_np\n",
    "output = output.where(land_sea_mask) # masking the values over the ocean\n",
    "sign.values = sign_np\n",
    "sign = sign.where(land_sea_mask)"
   ]
  },
  {
   "cell_type": "markdown",
   "metadata": {},
   "source": [
    "**Action**: Make nice plot of output, copy-paste the code which was used to plot the country map as a starting point. See section *2b: Retrieve data for Kenya*.   "
   ]
  },
  {
   "cell_type": "markdown",
   "metadata": {},
   "source": [
    "Advice is to change the following arguments:\n",
    "\n",
    "colormap = plt.cm.Reds\n",
    "vmin = -0.4\n",
    "vmax = 0.4\n",
    "\n",
    "To indicate which gridcells are significantly correlating with ENSO, we can add little dots in our plot with the following code: (the # is causing the text/code to be interpreted as comments and not as python language. Hence, you need to uncomment (remove #) to let python process the code. Can be done manually or by selecting all lines in the cell below and press *cmd + /* or *ctrl + /*.\n"
   ]
  },
  {
   "cell_type": "code",
   "execution_count": 14,
   "metadata": {},
   "outputs": [],
   "source": [
    "# Make figure 3 here\n",
    "\n",
    "\n",
    "# below is the code to add the stipling where the correlation is significant (p-value < 0.05).\n",
    "\n",
    "# alpha = 0.05\n",
    "# sign.plot.contourf(ax=ax1, levels=[0, alpha, 1],\n",
    "#            transform=ccrs.PlateCarree(), hatches=['...', ''],\n",
    "#            colors='none', add_colorbar=False,\n",
    "#            subplot_kws={'projection': map_proj})"
   ]
  },
  {
   "cell_type": "markdown",
   "metadata": {},
   "source": [
    "**Question 9**: Interpret the spatial map with correlation coefficients."
   ]
  },
  {
   "cell_type": "markdown",
   "metadata": {},
   "source": [
    "**Bonus action**: plot the SPI for each season during El Nino."
   ]
  },
  {
   "cell_type": "markdown",
   "metadata": {},
   "source": [
    "The official definition for an El Nino or La Nina phase is that a 3 month running mean of the ENSO 3.4 timeseries should be above (or below) 0.5 degrees Celcius. To make life easy, I will simply select the dates that are above or below 1 degree Celcius."
   ]
  },
  {
   "cell_type": "code",
   "execution_count": null,
   "metadata": {},
   "outputs": [],
   "source": [
    "ENSO_rm3 = Enso_34_all.rolling(time=91, center=False, min_periods=1).mean()\n",
    "\n",
    "mask_ENSO = ENSO_rm3 > 1\n",
    "ENSO_dates = pd.to_datetime(mask_ENSO[mask_ENSO].time.values)\n",
    "# match to SPI dates\n",
    "ENSO_SPI = pd.to_datetime([d for d in SPI_xr.time.values if d in ENSO_dates])\n",
    "\n",
    "\n",
    "SPI_seasons = SPI_xr.sel(time=ENSO_SPI).groupby('time.season').mean('time')\n",
    "SPI_seasons.name = 'SPI'\n",
    "SPI_seasons = SPI_seasons.where(land_sea_mask)\n",
    "\n",
    "map_proj = ccrs.PlateCarree(central_longitude=10)\n",
    "colormap = plt.cm.coolwarm_r\n",
    "plt.figure(figsize=(20,15))\n",
    "for i, season in enumerate(('DJF', 'MAM', 'JJA', 'SON')):\n",
    "    ax = plt.subplot(2, 2, i+1, projection=map_proj)\n",
    "    SPI_seasons.sel(season=season).plot.contourf(ax=ax,\n",
    "                                                 transform=ccrs.PlateCarree(), \n",
    "                                                 subplot_kws={'projection': map_proj},\n",
    "                                                cmap=colormap,\n",
    "                                                vmin=-1, vmax=1)\n",
    "    ax.coastlines()"
   ]
  }
 ],
 "metadata": {
  "kernelspec": {
   "display_name": "Python 3",
   "language": "python",
   "name": "python3"
  },
  "language_info": {
   "codemirror_mode": {
    "name": "ipython",
    "version": 3
   },
   "file_extension": ".py",
   "mimetype": "text/x-python",
   "name": "python",
   "nbconvert_exporter": "python",
   "pygments_lexer": "ipython3",
<<<<<<< HEAD
   "version": "3.6.5"
  }
 },
 "nbformat": 4,
 "nbformat_minor": 2
=======
   "version": "3.7.3"
  }
 },
 "nbformat": 4,
 "nbformat_minor": 4
>>>>>>> 639a42a7d1dbb421acfa5894cb0f2f82cc7ae2be
}
