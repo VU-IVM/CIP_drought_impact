{
 "cells": [
  {
   "cell_type": "markdown",
   "metadata": {},
   "source": [
    "<div style=\"text-align: right\">  \n",
    "Notebook by Sem Vijverberg (Adapted from Ted Veldkamps and Marthe Wens) <br>\n",
    "</div>\n",
    "\n",
    "## Drought risk: ENSO impact on drought hazard for Kenya\n"
   ]
  },
  {
   "cell_type": "markdown",
   "metadata": {},
   "source": [
    "## Introduction\n",
    "\n",
    "In the lecture, you were taught about ways to estimate meteorological, agricultural, and hydrological drought hazard. Either by using standardized indicators (SPI, SPEI, SSFI) or by fixed or variable threshold level methods (Q90). In this practical, you will quantify African drought using the SPI indicator and discover the impact of ENSO on Drought. \n",
    "\n",
    "Learning goals for this practicum are:\n",
    "- Learn to apply standardized methods to represent meteorological and hydrological drought hazard;\n",
    "- Learn to deal with multi-dimensional climate datasets.\n",
    "- Learn to visualize and interpret the results from drought hazard calculation methods.\n",
    "\n",
    "## Performing the exercise\n",
    "To run any script in the code-boxes below use *shift+enter*. **action** denotes where you have to make changes to particular pieces of code. When a script is running this is indicated by the * on the left side of the window.\n",
    "\n",
    "## Saving your results\n",
    "See the word answer sheet in the main repository. Make sure you safe the requested outputs (figures, tables) and answers to questions here. Furthermore, save the codes that you have created and run during this exercise (right clicking the .ipynb and select download).\n",
    "\n",
    "## Working in a Binder environment?\n",
    "Binder is super helpfull in the sense that all Python dependencies will work. **But a Binder can be unstable.** After you have made changes to the code please copy and paste that into a local text file to ensure you can easily retrieve progress."
   ]
  },
  {
   "cell_type": "markdown",
   "metadata": {},
   "source": [
    "## 1. Importing Python packages"
   ]
  },
  {
   "cell_type": "markdown",
   "metadata": {},
   "source": [
    "Before running any Python script (in an offline or online modus) it is necessary to import a number of Python packages that can help you with performing the calculations. \n",
    "\n",
    "**Action**: Perform the script in the code-boxes below by selecting them and press *shift+enter*."
   ]
  },
  {
   "cell_type": "code",
   "execution_count": 1,
   "metadata": {},
   "outputs": [],
   "source": [
    "# Import working modules\n",
    "\n",
    "import xarray as xr\n",
    "import numpy as np\n",
    "import scipy.stats as stats\n",
    "import matplotlib\n",
    "import cartopy.crs as ccrs\n",
    "import matplotlib.pyplot as plt\n",
    "import pandas as pd\n",
    "import inspect, os, sys\n",
    "\n",
    "# Define paths\n",
    "workingfolder = os.path.dirname(os.path.abspath(inspect.getfile(inspect.currentframe())))\n",
    "if workingfolder.split('/')[-1] != 'Answers':\n",
    "    Notebooks_path = os.path.join(workingfolder, 'Notebooks')\n",
    "else:\n",
    "    Notebooks_path = os.path.join(workingfolder, '..', 'Notebooks')\n",
    "    \n",
    "# adding path of notebooks to sys.path\n",
    "if Notebooks_path not in sys.path:\n",
    "    sys.path.append(Notebooks_path)\n",
    "import core_pp\n",
    "\n",
    "matplotlib.rcParams['font.size'] = 18\n",
    "matplotlib.rcParams['legend.fontsize'] = 'xx-large'"
   ]
  },
  {
   "cell_type": "markdown",
   "metadata": {},
   "source": [
    "In the Data-folder a number of files have been prepared that serve as input for this exercise. First, open the \"precip_file\" and \"evap_file\" familiarize yourself with the data. \n",
    "\n",
    "**Action**: Make sure that path is correct. If needed, make changes to input_folder and input_file. Afterwards run the code by pressing *ctrl+enter*."
   ]
  },
  {
   "cell_type": "code",
   "execution_count": 2,
   "metadata": {},
   "outputs": [],
   "source": [
    "inputfolder   = os.path.join(workingfolder,'..', 'Data')\n",
    "\n",
    "# Name input file\n",
    "precip_file   = os.path.join(inputfolder,'p_1979-2018_Africa.nc')\n",
    "country_codes = os.path.join(inputfolder,'Africa_mask_Countries.nc')\n",
    "sst_Pacific   = os.path.join(inputfolder,'sst_1979-2018_Trop_Pacific.nc')"
   ]
  },
  {
   "cell_type": "markdown",
   "metadata": {},
   "source": [
    "## 2: Loading Precipitation and Potential Evaporation data"
   ]
  },
  {
   "cell_type": "markdown",
   "metadata": {},
   "source": [
    "You will now start with loading and inspecting the input data within Python Jupyter Notebooks. You will do this in the following code-box. Press *ctrl+enter* to run the code.\n",
    "\n",
    "**Action**: Load the data into the memory of this kernel."
   ]
  },
  {
   "cell_type": "code",
   "execution_count": 3,
   "metadata": {},
   "outputs": [],
   "source": [
    "precip_m  = core_pp.import_ds_lazy(precip_file)"
   ]
  },
  {
   "cell_type": "markdown",
   "metadata": {},
   "source": [
    "**Action**: Inspect the data set by plotting the climalogical rainfall and potential evaporation over Africa. "
   ]
  },
  {
   "cell_type": "code",
   "execution_count": 4,
   "metadata": {},
   "outputs": [
    {
     "data": {
      "text/plain": [
       "<xarray.DataArray 'tp' (time: 14600, latitude: 30, longitude: 29)>\n",
       "array([[[1.152627e-03, 1.823694e-04, ..., 0.000000e+00, 0.000000e+00],\n",
       "        [1.882104e-05, 2.141705e-05, ..., 0.000000e+00, 0.000000e+00],\n",
       "        ...,\n",
       "        [9.735022e-05, 1.447273e-04, ..., 1.336943e-04, 1.155223e-04],\n",
       "        [1.687404e-05, 9.086021e-05, ..., 6.295314e-05, 5.321812e-05]],\n",
       "\n",
       "       [[1.603034e-04, 1.200653e-04, ..., 0.000000e+00, 0.000000e+00],\n",
       "        [1.285023e-04, 3.180107e-05, ..., 0.000000e+00, 0.000000e+00],\n",
       "        ...,\n",
       "        [9.215821e-05, 1.492703e-05, ..., 7.463517e-05, 4.023809e-05],\n",
       "        [8.592780e-04, 1.427803e-05, ..., 3.504608e-05, 1.298003e-05]],\n",
       "\n",
       "       ...,\n",
       "\n",
       "       [[7.173491e-05, 7.797273e-05, ..., 2.775558e-17, 2.775558e-17],\n",
       "        [7.173491e-05, 2.058480e-05, ..., 2.775558e-17, 2.775558e-17],\n",
       "        ...,\n",
       "        [1.233217e-03, 1.977388e-04, ..., 3.617935e-05, 4.491229e-05],\n",
       "        [2.386589e-03, 2.059104e-03, ..., 2.775558e-17, 6.549709e-05]],\n",
       "\n",
       "       [[9.446728e-04, 3.259226e-04, ..., 2.081668e-17, 2.081668e-17],\n",
       "        [1.678656e-04, 7.095004e-04, ..., 2.081668e-17, 2.081668e-17],\n",
       "        ...,\n",
       "        [1.175707e-02, 8.213896e-03, ..., 1.484601e-04, 9.565792e-05],\n",
       "        [2.301998e-02, 1.050592e-02, ..., 2.120858e-05, 7.686911e-05]]],\n",
       "      dtype=float32)\n",
       "Coordinates:\n",
       "  * time       (time) datetime64[ns] 1979-01-01 1979-01-02 1979-01-03 ...\n",
       "  * longitude  (longitude) float32 -17.5 -15.0 -12.5 -10.0 -7.5 -5.0 -2.5 ...\n",
       "  * latitude   (latitude) float32 37.5 35.0 32.5 30.0 27.5 25.0 22.5 20.0 ...\n",
       "Attributes:\n",
       "    long_name:  Total precipitation\n",
       "    units:      m"
      ]
     },
     "execution_count": 4,
     "metadata": {},
     "output_type": "execute_result"
    }
   ],
   "source": [
    "precip_m"
   ]
  },
  {
   "cell_type": "markdown",
   "metadata": {},
   "source": [
    "### 2a: Inspecting the data\n",
    "In python you can store data in different manners. Famous data types are Lists, Numpy arrays, dictionairies, or pandas Dataframe. Each data type has advantages and disadvantage. An xarray.DataArray is super handy for multi-dimensional datasets. It is like an excell sheets, but we can add as many dimensions as we want. For normal Excell sheets, we are limited to either the row or column dimensions, xarray can handle multiple. In this case, we see the time, latitude (imagine the y-axis) and longitude (imagine the x-axis) dimensions. We can also see that units are in Meters (per day), lets convert that to mm per day get a better feeling."
   ]
  },
  {
   "cell_type": "code",
   "execution_count": 5,
   "metadata": {},
   "outputs": [],
   "source": [
    "precip = precip_m * 1000\n",
    "precip.name = 'Precipitation [mm/day]'\n",
    "precip.attrs['units'] = '[mm/day]'"
   ]
  },
  {
   "cell_type": "markdown",
   "metadata": {},
   "source": [
    "In the cell below we create the most simple plot of the climatological rainfall over Africa. For a climatology, we at least need 30 years. This is true particularly for precipiation, some argue we need at least 50 years to get a good climatology.\n"
   ]
  },
  {
   "cell_type": "code",
   "execution_count": 6,
   "metadata": {},
   "outputs": [
    {
     "data": {
      "text/plain": [
       "<matplotlib.contour.QuadContourSet at 0x1c1c13b748>"
      ]
     },
     "execution_count": 6,
     "metadata": {},
     "output_type": "execute_result"
    },
    {
     "data": {
      "image/png": "[encoded data removed]",
      "text/plain": [
       "<Figure size 432x288 with 2 Axes>"
      ]
     },
     "metadata": {},
     "output_type": "display_data"
    }
   ],
   "source": [
    "(precip).mean(dim='time').plot.contourf()"
   ]
  },
  {
   "cell_type": "markdown",
   "metadata": {},
   "source": [
    "**Question 0:** Why do you think we need more years to get a robust climatology compared to other variables?"
   ]
  },
  {
   "cell_type": "markdown",
   "metadata": {},
   "source": [
    "Using the Python Package Cartopy (ccrs), we can make nice spatial maps."
   ]
  },
  {
   "cell_type": "markdown",
   "metadata": {},
   "source": [
    "**Question 1:** Briefly explain what you can learn from figure 1."
   ]
  },
  {
   "cell_type": "code",
   "execution_count": 7,
   "metadata": {},
   "outputs": [
    {
     "data": {
      "text/plain": [
       "<cartopy.mpl.feature_artist.FeatureArtist at 0x1c1ce95080>"
      ]
     },
     "execution_count": 7,
     "metadata": {},
     "output_type": "execute_result"
    },
    {
     "data": {
      "image/png": "[encoded data removed]",
      "text/plain": [
       "<Figure size 2160x720 with 2 Axes>"
      ]
     },
     "metadata": {},
     "output_type": "display_data"
    }
   ],
   "source": [
    "# Figure 1\n",
    "# Use Cartopy Python package to plot a map and draw country lines\n",
    "map_proj = ccrs.PlateCarree(central_longitude=10)\n",
    "\n",
    "fig = plt.figure(figsize=(30,10) )\n",
    "\n",
    "# plot precipitation\n",
    "# The integer numbers for plt.subplot refer to (n_rows, n_cols, 'index of figure') \n",
    "ax1 = plt.subplot(1, 2, 1, projection=map_proj) \n",
    "colormap = plt.cm.Blues\n",
    "precip.mean(dim='time').plot.contourf(ax=ax1, transform=ccrs.PlateCarree(), \n",
    "                             subplot_kws={'projection': map_proj},\n",
    "                             cmap=colormap)\n",
    "ax1.coastlines()"
   ]
  },
  {
   "cell_type": "markdown",
   "metadata": {},
   "source": [
    "### 2b: Retrieve data for Kenya\n",
    "First we will focus on quantifying drought in Kenya. In order to retrieve only data from that country, we load the 'country_codes'.\n",
    "\n",
    "**Action**: Load country_codes and select precipiation and evaporation of Kenya. "
   ]
  },
  {
   "cell_type": "code",
   "execution_count": 8,
   "metadata": {},
   "outputs": [
    {
     "data": {
      "text/plain": [
       "<matplotlib.collections.QuadMesh at 0x1024de198>"
      ]
     },
     "execution_count": 8,
     "metadata": {},
     "output_type": "execute_result"
    },
    {
     "data": {
      "image/png": "[encoded data removed]",
      "text/plain": [
       "<Figure size 1080x720 with 2 Axes>"
      ]
     },
     "metadata": {},
     "output_type": "display_data"
    }
   ],
   "source": [
    "country = xr.open_dataset(country_codes).country_mask\n",
    "land_sea_mask = country >= 1\n",
    "map_proj = ccrs.PlateCarree(central_longitude=10)\n",
    "colormap = plt.cm.gist_ncar_r\n",
    "vmin = 0\n",
    "vmax = country.max()\n",
    "\n",
    "fig = plt.figure(figsize=(15,10) )\n",
    "ax1 = plt.subplot(1, 1, 1, projection=map_proj)\n",
    "country.plot(ax=ax1, transform=ccrs.PlateCarree(), \n",
    "                            subplot_kws={'projection': map_proj},\n",
    "                            cmap=colormap,\n",
    "                            vmin=vmin, vmax=vmax)"
   ]
  },
  {
   "cell_type": "markdown",
   "metadata": {},
   "source": [
    "The *country* file contains an attribute called 'country_code'. The following cell will convert this information into a Python dictionairy. A python dictionairy consists of keys and items in the following format: {*key1* : *item1*}. In the following, the key refers to an abbreviation of the country nams and the item refers to the numbers in the country mask. \n",
    "\n",
    "We will focus the coming analysis on Kenia, which has the *key* KE. "
   ]
  },
  {
   "cell_type": "code",
   "execution_count": 11,
   "metadata": {},
   "outputs": [
    {
     "data": {
      "text/plain": [
       "115"
      ]
     },
     "execution_count": 11,
     "metadata": {},
     "output_type": "execute_result"
    }
   ],
   "source": [
    "c_list = country.attrs['country_code']\n",
    "codes_dict = {}\n",
    "for i in np.arange(0,len(c_list),2):\n",
    "    codes_dict[str(c_list[i])] = int(c_list[i+1])\n",
    "codes_dict['KE']"
   ]
  },
  {
   "cell_type": "markdown",
   "metadata": {},
   "source": [
    "Thus we need to gridpoints corresponding to number 115 in the *country* xarray. We will make a boolean mask (consisting of only True and False), which will only be True at Kenya. We can use that mask to select the gridcells of the *precip* and *evap* xarray."
   ]
  },
  {
   "cell_type": "code",
   "execution_count": 12,
   "metadata": {},
   "outputs": [],
   "source": [
    "Kenya_mask = country.values == 115\n",
    "Kenya_mask = (('latitude', 'longitude'), Kenya_mask )\n",
    "precip.coords['mask'] = Kenya_mask\n",
    "pr_kenya = precip.where(precip.mask)\n"
   ]
  },
  {
   "cell_type": "code",
   "execution_count": 13,
   "metadata": {},
   "outputs": [
    {
     "data": {
      "text/plain": [
       "<cartopy.mpl.feature_artist.FeatureArtist at 0x102554ef0>"
      ]
     },
     "execution_count": 13,
     "metadata": {},
     "output_type": "execute_result"
    },
    {
     "data": {
      "image/png": "[encoded data removed]",
      "text/plain": [
       "<Figure size 2160x720 with 2 Axes>"
      ]
     },
     "metadata": {},
     "output_type": "display_data"
    }
   ],
   "source": [
    "map_proj = ccrs.PlateCarree(central_longitude=10)\n",
    "\n",
    "fig = plt.figure(figsize=(30,10) )\n",
    "\n",
    "# plot precipitation\n",
    "ax1 = plt.subplot(1, 2, 1, projection=map_proj)\n",
    "colormap = plt.cm.Blues\n",
    "pr_kenya.mean(dim='time').plot(ax=ax1, transform=ccrs.PlateCarree(), \n",
    "                             subplot_kws={'projection': map_proj},\n",
    "                             cmap=colormap,\n",
    "                             vmin=-3, vmax=3)\n",
    "ax1.coastlines()"
   ]
  },
  {
   "cell_type": "markdown",
   "metadata": {},
   "source": [
    "## 3: SPI for a single gridcell in Kenya"
   ]
  },
  {
   "cell_type": "markdown",
   "metadata": {},
   "source": [
    "## Steps to calculate SPI\n",
    "\n",
    "1. SPI is bases on temporally aggregated values of precipitation (in mm). Common temporal aggregations are 1, 3 and 6 months, but their are no stricts rules. You can simply call it SPI-x, with x representing the amount of accumulated months.\n",
    "2. We then fit a distribution (across years), often the gamma distribution is used. However, given the strong heterogeneity around the globe, this distribution is not always the best. Preferably one tests different distributions, and chooses the best one. For this exercise, we will stick to Gamma distribution.  \n",
    "3. The fitted distribution gives us the probability that a value occurs, this probability is transformed to standard normal distribution to ease interpretation. Stagge et al. (2015) pointed out that we should remove all zeros when we do this transformation to ensure that the mean of the new standard normal distribution will be zero.   \n",
    "\n",
    "Note, since we are working with daily data, we take aggregation over i-days, representing the monthly aggregations. i.e. 1, 3, 6, which are considered equivalent to 31, 91, 183 days.\n"
   ]
  },
  {
   "cell_type": "markdown",
   "metadata": {},
   "source": [
    "### First get a single gridcell from Kenya"
   ]
  },
  {
   "cell_type": "code",
   "execution_count": 14,
   "metadata": {},
   "outputs": [
    {
     "data": {
      "text/html": [
       "<div>\n",
       "<style scoped>\n",
       "    .dataframe tbody tr th:only-of-type {\n",
       "        vertical-align: middle;\n",
       "    }\n",
       "\n",
       "    .dataframe tbody tr th {\n",
       "        vertical-align: top;\n",
       "    }\n",
       "\n",
       "    .dataframe thead th {\n",
       "        text-align: right;\n",
       "    }\n",
       "</style>\n",
       "<table border=\"1\" class=\"dataframe\">\n",
       "  <thead>\n",
       "    <tr style=\"text-align: right;\">\n",
       "      <th></th>\n",
       "      <th>0</th>\n",
       "      <th>1</th>\n",
       "      <th>2</th>\n",
       "      <th>3</th>\n",
       "      <th>4</th>\n",
       "      <th>5</th>\n",
       "      <th>6</th>\n",
       "      <th>7</th>\n",
       "    </tr>\n",
       "  </thead>\n",
       "  <tbody>\n",
       "    <tr>\n",
       "      <th>1979-01-01</th>\n",
       "      <td>0.000000e+00</td>\n",
       "      <td>0.000000e+00</td>\n",
       "      <td>0.000000e+00</td>\n",
       "      <td>1.298003e-03</td>\n",
       "      <td>0.289455</td>\n",
       "      <td>0.271283</td>\n",
       "      <td>5.192012e-03</td>\n",
       "      <td>0.005192</td>\n",
       "    </tr>\n",
       "    <tr>\n",
       "      <th>1979-01-02</th>\n",
       "      <td>0.000000e+00</td>\n",
       "      <td>0.000000e+00</td>\n",
       "      <td>0.000000e+00</td>\n",
       "      <td>0.000000e+00</td>\n",
       "      <td>0.362143</td>\n",
       "      <td>0.861874</td>\n",
       "      <td>1.518663e-01</td>\n",
       "      <td>0.036993</td>\n",
       "    </tr>\n",
       "    <tr>\n",
       "      <th>1979-01-03</th>\n",
       "      <td>0.000000e+00</td>\n",
       "      <td>0.000000e+00</td>\n",
       "      <td>0.000000e+00</td>\n",
       "      <td>1.947004e-03</td>\n",
       "      <td>0.882642</td>\n",
       "      <td>0.377719</td>\n",
       "      <td>4.218510e-02</td>\n",
       "      <td>0.051271</td>\n",
       "    </tr>\n",
       "    <tr>\n",
       "      <th>1979-01-04</th>\n",
       "      <td>0.000000e+00</td>\n",
       "      <td>0.000000e+00</td>\n",
       "      <td>0.000000e+00</td>\n",
       "      <td>1.362903e-02</td>\n",
       "      <td>0.155760</td>\n",
       "      <td>0.691187</td>\n",
       "      <td>1.947004e-01</td>\n",
       "      <td>0.168091</td>\n",
       "    </tr>\n",
       "    <tr>\n",
       "      <th>1979-01-05</th>\n",
       "      <td>0.000000e+00</td>\n",
       "      <td>1.479723e-01</td>\n",
       "      <td>2.596006e-03</td>\n",
       "      <td>1.304493e-01</td>\n",
       "      <td>0.183018</td>\n",
       "      <td>1.654954</td>\n",
       "      <td>1.306440e+00</td>\n",
       "      <td>0.503625</td>\n",
       "    </tr>\n",
       "    <tr>\n",
       "      <th>1979-01-06</th>\n",
       "      <td>7.203916e-02</td>\n",
       "      <td>1.454412e+00</td>\n",
       "      <td>1.752304e-02</td>\n",
       "      <td>6.879416e-01</td>\n",
       "      <td>0.199892</td>\n",
       "      <td>4.120511</td>\n",
       "      <td>3.489681e+00</td>\n",
       "      <td>0.372527</td>\n",
       "    </tr>\n",
       "    <tr>\n",
       "      <th>1979-01-07</th>\n",
       "      <td>1.512173e-01</td>\n",
       "      <td>5.023271e-01</td>\n",
       "      <td>1.427803e-02</td>\n",
       "      <td>5.127112e-01</td>\n",
       "      <td>0.022715</td>\n",
       "      <td>7.398617</td>\n",
       "      <td>8.547349e-01</td>\n",
       "      <td>1.763986</td>\n",
       "    </tr>\n",
       "    <tr>\n",
       "      <th>1979-01-08</th>\n",
       "      <td>1.492703e-01</td>\n",
       "      <td>4.478110e-02</td>\n",
       "      <td>0.000000e+00</td>\n",
       "      <td>3.660368e-01</td>\n",
       "      <td>2.087189</td>\n",
       "      <td>2.451928</td>\n",
       "      <td>3.744738e-01</td>\n",
       "      <td>0.887185</td>\n",
       "    </tr>\n",
       "    <tr>\n",
       "      <th>1979-01-09</th>\n",
       "      <td>0.000000e+00</td>\n",
       "      <td>1.817204e-02</td>\n",
       "      <td>0.000000e+00</td>\n",
       "      <td>2.011904e-02</td>\n",
       "      <td>3.196981</td>\n",
       "      <td>0.208978</td>\n",
       "      <td>1.849654e-01</td>\n",
       "      <td>0.581505</td>\n",
       "    </tr>\n",
       "    <tr>\n",
       "      <th>1979-01-10</th>\n",
       "      <td>1.103302e-02</td>\n",
       "      <td>4.997312e-02</td>\n",
       "      <td>0.000000e+00</td>\n",
       "      <td>4.672810e-02</td>\n",
       "      <td>6.027277</td>\n",
       "      <td>0.310223</td>\n",
       "      <td>5.127111e-02</td>\n",
       "      <td>0.757385</td>\n",
       "    </tr>\n",
       "    <tr>\n",
       "      <th>1979-01-11</th>\n",
       "      <td>3.829109e-02</td>\n",
       "      <td>3.180107e-01</td>\n",
       "      <td>0.000000e+00</td>\n",
       "      <td>5.451613e-02</td>\n",
       "      <td>1.391459</td>\n",
       "      <td>0.043483</td>\n",
       "      <td>1.291513e-01</td>\n",
       "      <td>0.375123</td>\n",
       "    </tr>\n",
       "    <tr>\n",
       "      <th>1979-01-12</th>\n",
       "      <td>8.372119e-02</td>\n",
       "      <td>6.950806e-01</td>\n",
       "      <td>1.440783e-01</td>\n",
       "      <td>1.479723e-01</td>\n",
       "      <td>0.257005</td>\n",
       "      <td>0.072688</td>\n",
       "      <td>5.841013e-02</td>\n",
       "      <td>0.364090</td>\n",
       "    </tr>\n",
       "    <tr>\n",
       "      <th>1979-01-13</th>\n",
       "      <td>1.466743e-01</td>\n",
       "      <td>3.796659e-01</td>\n",
       "      <td>0.000000e+00</td>\n",
       "      <td>2.219585e-01</td>\n",
       "      <td>1.712715</td>\n",
       "      <td>0.025960</td>\n",
       "      <td>1.362903e-01</td>\n",
       "      <td>0.121363</td>\n",
       "    </tr>\n",
       "    <tr>\n",
       "      <th>1979-01-14</th>\n",
       "      <td>1.947004e-03</td>\n",
       "      <td>2.453226e-01</td>\n",
       "      <td>5.451613e-02</td>\n",
       "      <td>3.439708e-02</td>\n",
       "      <td>2.942573</td>\n",
       "      <td>0.520499</td>\n",
       "      <td>9.086021e-02</td>\n",
       "      <td>0.450407</td>\n",
       "    </tr>\n",
       "    <tr>\n",
       "      <th>1979-01-15</th>\n",
       "      <td>6.490015e-04</td>\n",
       "      <td>1.148733e-01</td>\n",
       "      <td>8.437020e-03</td>\n",
       "      <td>2.420776e-01</td>\n",
       "      <td>0.846947</td>\n",
       "      <td>1.964527</td>\n",
       "      <td>4.530030e-01</td>\n",
       "      <td>0.492592</td>\n",
       "    </tr>\n",
       "    <tr>\n",
       "      <th>1979-01-16</th>\n",
       "      <td>1.226613e-01</td>\n",
       "      <td>2.621966e-01</td>\n",
       "      <td>1.298003e-03</td>\n",
       "      <td>3.842089e-01</td>\n",
       "      <td>2.888705</td>\n",
       "      <td>2.126129</td>\n",
       "      <td>1.888594e-01</td>\n",
       "      <td>0.778802</td>\n",
       "    </tr>\n",
       "    <tr>\n",
       "      <th>1979-01-17</th>\n",
       "      <td>7.788018e-03</td>\n",
       "      <td>1.362903e-02</td>\n",
       "      <td>4.543010e-03</td>\n",
       "      <td>1.194163e-01</td>\n",
       "      <td>0.024013</td>\n",
       "      <td>0.260250</td>\n",
       "      <td>1.207143e-01</td>\n",
       "      <td>0.318660</td>\n",
       "    </tr>\n",
       "    <tr>\n",
       "      <th>1979-01-18</th>\n",
       "      <td>0.000000e+00</td>\n",
       "      <td>7.788018e-03</td>\n",
       "      <td>0.000000e+00</td>\n",
       "      <td>0.000000e+00</td>\n",
       "      <td>0.000000</td>\n",
       "      <td>0.066847</td>\n",
       "      <td>1.934024e-01</td>\n",
       "      <td>0.329693</td>\n",
       "    </tr>\n",
       "    <tr>\n",
       "      <th>1979-01-19</th>\n",
       "      <td>0.000000e+00</td>\n",
       "      <td>6.490015e-04</td>\n",
       "      <td>2.790706e-02</td>\n",
       "      <td>5.646313e-02</td>\n",
       "      <td>0.441970</td>\n",
       "      <td>0.736617</td>\n",
       "      <td>1.377830e+00</td>\n",
       "      <td>0.872907</td>\n",
       "    </tr>\n",
       "    <tr>\n",
       "      <th>1979-01-20</th>\n",
       "      <td>2.790706e-02</td>\n",
       "      <td>1.797734e-01</td>\n",
       "      <td>4.023809e-02</td>\n",
       "      <td>2.219585e-01</td>\n",
       "      <td>5.367242</td>\n",
       "      <td>5.131654</td>\n",
       "      <td>3.298226e+00</td>\n",
       "      <td>0.517903</td>\n",
       "    </tr>\n",
       "    <tr>\n",
       "      <th>1979-01-21</th>\n",
       "      <td>1.103302e-02</td>\n",
       "      <td>3.381298e-01</td>\n",
       "      <td>6.749616e-02</td>\n",
       "      <td>4.491090e-01</td>\n",
       "      <td>1.960634</td>\n",
       "      <td>2.009309</td>\n",
       "      <td>1.022177e+00</td>\n",
       "      <td>0.819689</td>\n",
       "    </tr>\n",
       "    <tr>\n",
       "      <th>1979-01-22</th>\n",
       "      <td>1.128614e+00</td>\n",
       "      <td>5.328302e-01</td>\n",
       "      <td>2.011904e-02</td>\n",
       "      <td>3.894009e-01</td>\n",
       "      <td>11.122587</td>\n",
       "      <td>2.433755</td>\n",
       "      <td>3.051605e+00</td>\n",
       "      <td>1.103302</td>\n",
       "    </tr>\n",
       "    <tr>\n",
       "      <th>1979-01-23</th>\n",
       "      <td>5.659293e+00</td>\n",
       "      <td>6.444585e-01</td>\n",
       "      <td>1.000111e+00</td>\n",
       "      <td>5.516512e-01</td>\n",
       "      <td>3.078863</td>\n",
       "      <td>11.658013</td>\n",
       "      <td>5.328302e-01</td>\n",
       "      <td>0.614604</td>\n",
       "    </tr>\n",
       "    <tr>\n",
       "      <th>1979-01-24</th>\n",
       "      <td>3.433218e+00</td>\n",
       "      <td>6.827496e-01</td>\n",
       "      <td>6.931336e-01</td>\n",
       "      <td>4.497580e-01</td>\n",
       "      <td>0.610710</td>\n",
       "      <td>2.074209</td>\n",
       "      <td>5.010291e-01</td>\n",
       "      <td>0.437427</td>\n",
       "    </tr>\n",
       "    <tr>\n",
       "      <th>1979-01-25</th>\n",
       "      <td>6.165514e-01</td>\n",
       "      <td>3.738248e-01</td>\n",
       "      <td>6.405645e-01</td>\n",
       "      <td>1.249977e+00</td>\n",
       "      <td>2.812123</td>\n",
       "      <td>2.860150</td>\n",
       "      <td>3.942684e+00</td>\n",
       "      <td>0.347216</td>\n",
       "    </tr>\n",
       "    <tr>\n",
       "      <th>1979-01-26</th>\n",
       "      <td>9.319661e-01</td>\n",
       "      <td>3.128187e-01</td>\n",
       "      <td>3.984869e-01</td>\n",
       "      <td>8.930260e-01</td>\n",
       "      <td>1.376532</td>\n",
       "      <td>2.828997</td>\n",
       "      <td>1.027369e+00</td>\n",
       "      <td>0.535426</td>\n",
       "    </tr>\n",
       "    <tr>\n",
       "      <th>1979-01-27</th>\n",
       "      <td>2.743978e+00</td>\n",
       "      <td>1.804224e-01</td>\n",
       "      <td>5.776113e-02</td>\n",
       "      <td>9.981643e-01</td>\n",
       "      <td>3.614938</td>\n",
       "      <td>2.152089</td>\n",
       "      <td>7.788017e-01</td>\n",
       "      <td>0.181720</td>\n",
       "    </tr>\n",
       "    <tr>\n",
       "      <th>1979-01-28</th>\n",
       "      <td>1.701033e+00</td>\n",
       "      <td>9.540322e-02</td>\n",
       "      <td>1.282427e+00</td>\n",
       "      <td>1.426505e+00</td>\n",
       "      <td>2.426617</td>\n",
       "      <td>4.972000</td>\n",
       "      <td>3.861559e-01</td>\n",
       "      <td>0.344620</td>\n",
       "    </tr>\n",
       "    <tr>\n",
       "      <th>1979-01-29</th>\n",
       "      <td>3.303417e+00</td>\n",
       "      <td>1.382373e-01</td>\n",
       "      <td>1.043594e+01</td>\n",
       "      <td>6.323870e+00</td>\n",
       "      <td>7.068275</td>\n",
       "      <td>41.682770</td>\n",
       "      <td>1.765284e-01</td>\n",
       "      <td>27.822693</td>\n",
       "    </tr>\n",
       "    <tr>\n",
       "      <th>1979-01-30</th>\n",
       "      <td>4.543010e-03</td>\n",
       "      <td>1.656252e+00</td>\n",
       "      <td>4.823379e+00</td>\n",
       "      <td>5.027814e+00</td>\n",
       "      <td>4.350906</td>\n",
       "      <td>8.778394</td>\n",
       "      <td>1.542027e+00</td>\n",
       "      <td>16.250998</td>\n",
       "    </tr>\n",
       "    <tr>\n",
       "      <th>...</th>\n",
       "      <td>...</td>\n",
       "      <td>...</td>\n",
       "      <td>...</td>\n",
       "      <td>...</td>\n",
       "      <td>...</td>\n",
       "      <td>...</td>\n",
       "      <td>...</td>\n",
       "      <td>...</td>\n",
       "    </tr>\n",
       "    <tr>\n",
       "      <th>2018-12-02</th>\n",
       "      <td>2.520078e-01</td>\n",
       "      <td>5.027682e-01</td>\n",
       "      <td>2.613646e-01</td>\n",
       "      <td>6.341990e+00</td>\n",
       "      <td>3.204367</td>\n",
       "      <td>3.163198</td>\n",
       "      <td>5.139962e-01</td>\n",
       "      <td>0.368655</td>\n",
       "    </tr>\n",
       "    <tr>\n",
       "      <th>2018-12-03</th>\n",
       "      <td>1.470254e+00</td>\n",
       "      <td>6.013257e-01</td>\n",
       "      <td>1.013646e+00</td>\n",
       "      <td>5.000236e+00</td>\n",
       "      <td>4.251073</td>\n",
       "      <td>1.494581</td>\n",
       "      <td>4.834309e-01</td>\n",
       "      <td>1.259416</td>\n",
       "    </tr>\n",
       "    <tr>\n",
       "      <th>2018-12-04</th>\n",
       "      <td>1.170215e+00</td>\n",
       "      <td>1.559455e-01</td>\n",
       "      <td>1.097856e-01</td>\n",
       "      <td>1.448421e+00</td>\n",
       "      <td>3.053412</td>\n",
       "      <td>2.331697</td>\n",
       "      <td>2.195088e+00</td>\n",
       "      <td>0.577622</td>\n",
       "    </tr>\n",
       "    <tr>\n",
       "      <th>2018-12-05</th>\n",
       "      <td>7.610139e-02</td>\n",
       "      <td>4.990255e-03</td>\n",
       "      <td>2.775558e-14</td>\n",
       "      <td>2.807018e-02</td>\n",
       "      <td>1.924367</td>\n",
       "      <td>1.101599</td>\n",
       "      <td>2.938012e-01</td>\n",
       "      <td>0.444133</td>\n",
       "    </tr>\n",
       "    <tr>\n",
       "      <th>2018-12-06</th>\n",
       "      <td>7.048734e-02</td>\n",
       "      <td>8.109164e-02</td>\n",
       "      <td>2.775558e-14</td>\n",
       "      <td>2.320468e-01</td>\n",
       "      <td>0.813412</td>\n",
       "      <td>1.808344</td>\n",
       "      <td>1.161482e+00</td>\n",
       "      <td>0.490293</td>\n",
       "    </tr>\n",
       "    <tr>\n",
       "      <th>2018-12-07</th>\n",
       "      <td>7.485382e-03</td>\n",
       "      <td>6.861601e-03</td>\n",
       "      <td>2.033529e-01</td>\n",
       "      <td>4.566083e-01</td>\n",
       "      <td>0.748538</td>\n",
       "      <td>0.623782</td>\n",
       "      <td>4.378325e+00</td>\n",
       "      <td>0.886394</td>\n",
       "    </tr>\n",
       "    <tr>\n",
       "      <th>2018-12-08</th>\n",
       "      <td>2.299884e+00</td>\n",
       "      <td>2.532554e-01</td>\n",
       "      <td>2.775558e-14</td>\n",
       "      <td>7.797273e-01</td>\n",
       "      <td>4.182457</td>\n",
       "      <td>11.364058</td>\n",
       "      <td>1.858870e-01</td>\n",
       "      <td>0.305029</td>\n",
       "    </tr>\n",
       "    <tr>\n",
       "      <th>2018-12-09</th>\n",
       "      <td>2.866278e+00</td>\n",
       "      <td>9.730997e-02</td>\n",
       "      <td>5.273451e+00</td>\n",
       "      <td>4.329670e+00</td>\n",
       "      <td>10.832596</td>\n",
       "      <td>3.240547</td>\n",
       "      <td>9.400392e-01</td>\n",
       "      <td>1.845147</td>\n",
       "    </tr>\n",
       "    <tr>\n",
       "      <th>2018-12-10</th>\n",
       "      <td>2.950488e-01</td>\n",
       "      <td>1.253801e-01</td>\n",
       "      <td>1.858246e+00</td>\n",
       "      <td>7.219651e+00</td>\n",
       "      <td>4.598520</td>\n",
       "      <td>7.618872</td>\n",
       "      <td>5.105031e+00</td>\n",
       "      <td>8.172790</td>\n",
       "    </tr>\n",
       "    <tr>\n",
       "      <th>2018-12-11</th>\n",
       "      <td>9.606240e-01</td>\n",
       "      <td>9.169593e-02</td>\n",
       "      <td>1.956804e+00</td>\n",
       "      <td>1.430332e+00</td>\n",
       "      <td>1.164601</td>\n",
       "      <td>8.144095</td>\n",
       "      <td>9.606240e-02</td>\n",
       "      <td>0.355556</td>\n",
       "    </tr>\n",
       "    <tr>\n",
       "      <th>2018-12-12</th>\n",
       "      <td>1.896297e+00</td>\n",
       "      <td>9.606240e-02</td>\n",
       "      <td>3.231190e-01</td>\n",
       "      <td>7.797273e-01</td>\n",
       "      <td>3.859338</td>\n",
       "      <td>1.049825</td>\n",
       "      <td>6.899027e-01</td>\n",
       "      <td>0.966862</td>\n",
       "    </tr>\n",
       "    <tr>\n",
       "      <th>2018-12-13</th>\n",
       "      <td>2.625498e+00</td>\n",
       "      <td>4.884212e-01</td>\n",
       "      <td>1.784016e-01</td>\n",
       "      <td>4.987136e+00</td>\n",
       "      <td>7.523433</td>\n",
       "      <td>3.768266</td>\n",
       "      <td>5.573491e+00</td>\n",
       "      <td>0.829006</td>\n",
       "    </tr>\n",
       "    <tr>\n",
       "      <th>2018-12-14</th>\n",
       "      <td>5.289670e-01</td>\n",
       "      <td>1.603119e-01</td>\n",
       "      <td>1.790254e-01</td>\n",
       "      <td>3.474465e-01</td>\n",
       "      <td>2.757116</td>\n",
       "      <td>2.776453</td>\n",
       "      <td>1.146511e+00</td>\n",
       "      <td>0.355556</td>\n",
       "    </tr>\n",
       "    <tr>\n",
       "      <th>2018-12-15</th>\n",
       "      <td>3.243665e-02</td>\n",
       "      <td>2.775558e-14</td>\n",
       "      <td>6.612088e-02</td>\n",
       "      <td>4.179338e-02</td>\n",
       "      <td>7.842185</td>\n",
       "      <td>4.024017</td>\n",
       "      <td>5.364524e-02</td>\n",
       "      <td>0.384250</td>\n",
       "    </tr>\n",
       "    <tr>\n",
       "      <th>2018-12-16</th>\n",
       "      <td>2.775558e-14</td>\n",
       "      <td>2.775558e-14</td>\n",
       "      <td>2.775558e-14</td>\n",
       "      <td>2.245615e-02</td>\n",
       "      <td>0.022456</td>\n",
       "      <td>0.544562</td>\n",
       "      <td>5.115011e-02</td>\n",
       "      <td>0.240156</td>\n",
       "    </tr>\n",
       "    <tr>\n",
       "      <th>2018-12-17</th>\n",
       "      <td>2.495127e-02</td>\n",
       "      <td>2.775558e-14</td>\n",
       "      <td>3.306044e-02</td>\n",
       "      <td>1.366082e-01</td>\n",
       "      <td>0.743548</td>\n",
       "      <td>0.217076</td>\n",
       "      <td>9.356728e-03</td>\n",
       "      <td>0.106667</td>\n",
       "    </tr>\n",
       "    <tr>\n",
       "      <th>2018-12-18</th>\n",
       "      <td>2.775558e-14</td>\n",
       "      <td>2.775558e-14</td>\n",
       "      <td>2.775558e-14</td>\n",
       "      <td>3.742691e-02</td>\n",
       "      <td>0.082963</td>\n",
       "      <td>0.576998</td>\n",
       "      <td>3.493179e-02</td>\n",
       "      <td>0.180273</td>\n",
       "    </tr>\n",
       "    <tr>\n",
       "      <th>2018-12-19</th>\n",
       "      <td>2.775558e-14</td>\n",
       "      <td>2.775558e-14</td>\n",
       "      <td>2.775558e-14</td>\n",
       "      <td>8.296299e-02</td>\n",
       "      <td>0.590721</td>\n",
       "      <td>3.425810</td>\n",
       "      <td>2.931775e-02</td>\n",
       "      <td>1.202651</td>\n",
       "    </tr>\n",
       "    <tr>\n",
       "      <th>2018-12-20</th>\n",
       "      <td>2.775558e-14</td>\n",
       "      <td>2.775558e-14</td>\n",
       "      <td>2.775558e-14</td>\n",
       "      <td>2.775558e-14</td>\n",
       "      <td>0.231423</td>\n",
       "      <td>2.964835</td>\n",
       "      <td>1.871346e-03</td>\n",
       "      <td>0.060507</td>\n",
       "    </tr>\n",
       "    <tr>\n",
       "      <th>2018-12-21</th>\n",
       "      <td>2.775558e-14</td>\n",
       "      <td>2.775558e-14</td>\n",
       "      <td>2.775558e-14</td>\n",
       "      <td>3.742691e-03</td>\n",
       "      <td>3.364679</td>\n",
       "      <td>2.468305</td>\n",
       "      <td>2.775558e-14</td>\n",
       "      <td>0.026823</td>\n",
       "    </tr>\n",
       "    <tr>\n",
       "      <th>2018-12-22</th>\n",
       "      <td>2.557506e-02</td>\n",
       "      <td>2.775558e-14</td>\n",
       "      <td>1.871346e-03</td>\n",
       "      <td>1.671735e-01</td>\n",
       "      <td>9.431581</td>\n",
       "      <td>1.601248</td>\n",
       "      <td>6.300196e-02</td>\n",
       "      <td>0.390487</td>\n",
       "    </tr>\n",
       "    <tr>\n",
       "      <th>2018-12-23</th>\n",
       "      <td>7.485382e-03</td>\n",
       "      <td>2.775558e-14</td>\n",
       "      <td>6.861601e-03</td>\n",
       "      <td>2.775558e-14</td>\n",
       "      <td>2.455205</td>\n",
       "      <td>3.321015</td>\n",
       "      <td>2.775558e-14</td>\n",
       "      <td>0.547057</td>\n",
       "    </tr>\n",
       "    <tr>\n",
       "      <th>2018-12-24</th>\n",
       "      <td>2.775558e-14</td>\n",
       "      <td>2.775558e-14</td>\n",
       "      <td>2.775558e-14</td>\n",
       "      <td>2.775558e-14</td>\n",
       "      <td>1.244445</td>\n",
       "      <td>0.707992</td>\n",
       "      <td>2.775558e-14</td>\n",
       "      <td>0.374893</td>\n",
       "    </tr>\n",
       "    <tr>\n",
       "      <th>2018-12-25</th>\n",
       "      <td>2.775558e-14</td>\n",
       "      <td>2.775558e-14</td>\n",
       "      <td>2.775558e-14</td>\n",
       "      <td>2.775558e-14</td>\n",
       "      <td>0.033684</td>\n",
       "      <td>0.765380</td>\n",
       "      <td>2.775558e-14</td>\n",
       "      <td>0.098558</td>\n",
       "    </tr>\n",
       "    <tr>\n",
       "      <th>2018-12-26</th>\n",
       "      <td>2.775558e-14</td>\n",
       "      <td>2.775558e-14</td>\n",
       "      <td>2.775558e-14</td>\n",
       "      <td>2.775558e-14</td>\n",
       "      <td>0.000624</td>\n",
       "      <td>0.169045</td>\n",
       "      <td>1.247564e-03</td>\n",
       "      <td>0.157817</td>\n",
       "    </tr>\n",
       "    <tr>\n",
       "      <th>2018-12-27</th>\n",
       "      <td>2.775558e-14</td>\n",
       "      <td>2.775558e-14</td>\n",
       "      <td>2.775558e-14</td>\n",
       "      <td>1.933724e-02</td>\n",
       "      <td>0.069864</td>\n",
       "      <td>0.230175</td>\n",
       "      <td>6.237818e-04</td>\n",
       "      <td>0.426667</td>\n",
       "    </tr>\n",
       "    <tr>\n",
       "      <th>2018-12-28</th>\n",
       "      <td>3.118909e-03</td>\n",
       "      <td>4.678364e-02</td>\n",
       "      <td>2.775558e-14</td>\n",
       "      <td>2.775558e-14</td>\n",
       "      <td>0.406082</td>\n",
       "      <td>0.257622</td>\n",
       "      <td>8.732947e-03</td>\n",
       "      <td>0.135361</td>\n",
       "    </tr>\n",
       "    <tr>\n",
       "      <th>2018-12-29</th>\n",
       "      <td>1.497076e-01</td>\n",
       "      <td>3.368422e-02</td>\n",
       "      <td>2.931775e-02</td>\n",
       "      <td>1.556960e+00</td>\n",
       "      <td>0.657466</td>\n",
       "      <td>0.759143</td>\n",
       "      <td>3.805069e-02</td>\n",
       "      <td>0.184016</td>\n",
       "    </tr>\n",
       "    <tr>\n",
       "      <th>2018-12-30</th>\n",
       "      <td>1.054191e-01</td>\n",
       "      <td>7.984407e-02</td>\n",
       "      <td>2.145810e-01</td>\n",
       "      <td>3.755167e-01</td>\n",
       "      <td>0.499025</td>\n",
       "      <td>1.168343</td>\n",
       "      <td>2.495127e-03</td>\n",
       "      <td>0.143470</td>\n",
       "    </tr>\n",
       "    <tr>\n",
       "      <th>2018-12-31</th>\n",
       "      <td>2.081668e-14</td>\n",
       "      <td>4.366473e-03</td>\n",
       "      <td>2.081668e-14</td>\n",
       "      <td>4.990255e-03</td>\n",
       "      <td>0.211462</td>\n",
       "      <td>0.026823</td>\n",
       "      <td>8.732947e-03</td>\n",
       "      <td>0.469769</td>\n",
       "    </tr>\n",
       "  </tbody>\n",
       "</table>\n",
       "<p>14600 rows × 8 columns</p>\n",
       "</div>"
      ],
      "text/plain": [
       "                       0             1             2             3          4  \\\n",
       "1979-01-01  0.000000e+00  0.000000e+00  0.000000e+00  1.298003e-03   0.289455   \n",
       "1979-01-02  0.000000e+00  0.000000e+00  0.000000e+00  0.000000e+00   0.362143   \n",
       "1979-01-03  0.000000e+00  0.000000e+00  0.000000e+00  1.947004e-03   0.882642   \n",
       "1979-01-04  0.000000e+00  0.000000e+00  0.000000e+00  1.362903e-02   0.155760   \n",
       "1979-01-05  0.000000e+00  1.479723e-01  2.596006e-03  1.304493e-01   0.183018   \n",
       "1979-01-06  7.203916e-02  1.454412e+00  1.752304e-02  6.879416e-01   0.199892   \n",
       "1979-01-07  1.512173e-01  5.023271e-01  1.427803e-02  5.127112e-01   0.022715   \n",
       "1979-01-08  1.492703e-01  4.478110e-02  0.000000e+00  3.660368e-01   2.087189   \n",
       "1979-01-09  0.000000e+00  1.817204e-02  0.000000e+00  2.011904e-02   3.196981   \n",
       "1979-01-10  1.103302e-02  4.997312e-02  0.000000e+00  4.672810e-02   6.027277   \n",
       "1979-01-11  3.829109e-02  3.180107e-01  0.000000e+00  5.451613e-02   1.391459   \n",
       "1979-01-12  8.372119e-02  6.950806e-01  1.440783e-01  1.479723e-01   0.257005   \n",
       "1979-01-13  1.466743e-01  3.796659e-01  0.000000e+00  2.219585e-01   1.712715   \n",
       "1979-01-14  1.947004e-03  2.453226e-01  5.451613e-02  3.439708e-02   2.942573   \n",
       "1979-01-15  6.490015e-04  1.148733e-01  8.437020e-03  2.420776e-01   0.846947   \n",
       "1979-01-16  1.226613e-01  2.621966e-01  1.298003e-03  3.842089e-01   2.888705   \n",
       "1979-01-17  7.788018e-03  1.362903e-02  4.543010e-03  1.194163e-01   0.024013   \n",
       "1979-01-18  0.000000e+00  7.788018e-03  0.000000e+00  0.000000e+00   0.000000   \n",
       "1979-01-19  0.000000e+00  6.490015e-04  2.790706e-02  5.646313e-02   0.441970   \n",
       "1979-01-20  2.790706e-02  1.797734e-01  4.023809e-02  2.219585e-01   5.367242   \n",
       "1979-01-21  1.103302e-02  3.381298e-01  6.749616e-02  4.491090e-01   1.960634   \n",
       "1979-01-22  1.128614e+00  5.328302e-01  2.011904e-02  3.894009e-01  11.122587   \n",
       "1979-01-23  5.659293e+00  6.444585e-01  1.000111e+00  5.516512e-01   3.078863   \n",
       "1979-01-24  3.433218e+00  6.827496e-01  6.931336e-01  4.497580e-01   0.610710   \n",
       "1979-01-25  6.165514e-01  3.738248e-01  6.405645e-01  1.249977e+00   2.812123   \n",
       "1979-01-26  9.319661e-01  3.128187e-01  3.984869e-01  8.930260e-01   1.376532   \n",
       "1979-01-27  2.743978e+00  1.804224e-01  5.776113e-02  9.981643e-01   3.614938   \n",
       "1979-01-28  1.701033e+00  9.540322e-02  1.282427e+00  1.426505e+00   2.426617   \n",
       "1979-01-29  3.303417e+00  1.382373e-01  1.043594e+01  6.323870e+00   7.068275   \n",
       "1979-01-30  4.543010e-03  1.656252e+00  4.823379e+00  5.027814e+00   4.350906   \n",
       "...                  ...           ...           ...           ...        ...   \n",
       "2018-12-02  2.520078e-01  5.027682e-01  2.613646e-01  6.341990e+00   3.204367   \n",
       "2018-12-03  1.470254e+00  6.013257e-01  1.013646e+00  5.000236e+00   4.251073   \n",
       "2018-12-04  1.170215e+00  1.559455e-01  1.097856e-01  1.448421e+00   3.053412   \n",
       "2018-12-05  7.610139e-02  4.990255e-03  2.775558e-14  2.807018e-02   1.924367   \n",
       "2018-12-06  7.048734e-02  8.109164e-02  2.775558e-14  2.320468e-01   0.813412   \n",
       "2018-12-07  7.485382e-03  6.861601e-03  2.033529e-01  4.566083e-01   0.748538   \n",
       "2018-12-08  2.299884e+00  2.532554e-01  2.775558e-14  7.797273e-01   4.182457   \n",
       "2018-12-09  2.866278e+00  9.730997e-02  5.273451e+00  4.329670e+00  10.832596   \n",
       "2018-12-10  2.950488e-01  1.253801e-01  1.858246e+00  7.219651e+00   4.598520   \n",
       "2018-12-11  9.606240e-01  9.169593e-02  1.956804e+00  1.430332e+00   1.164601   \n",
       "2018-12-12  1.896297e+00  9.606240e-02  3.231190e-01  7.797273e-01   3.859338   \n",
       "2018-12-13  2.625498e+00  4.884212e-01  1.784016e-01  4.987136e+00   7.523433   \n",
       "2018-12-14  5.289670e-01  1.603119e-01  1.790254e-01  3.474465e-01   2.757116   \n",
       "2018-12-15  3.243665e-02  2.775558e-14  6.612088e-02  4.179338e-02   7.842185   \n",
       "2018-12-16  2.775558e-14  2.775558e-14  2.775558e-14  2.245615e-02   0.022456   \n",
       "2018-12-17  2.495127e-02  2.775558e-14  3.306044e-02  1.366082e-01   0.743548   \n",
       "2018-12-18  2.775558e-14  2.775558e-14  2.775558e-14  3.742691e-02   0.082963   \n",
       "2018-12-19  2.775558e-14  2.775558e-14  2.775558e-14  8.296299e-02   0.590721   \n",
       "2018-12-20  2.775558e-14  2.775558e-14  2.775558e-14  2.775558e-14   0.231423   \n",
       "2018-12-21  2.775558e-14  2.775558e-14  2.775558e-14  3.742691e-03   3.364679   \n",
       "2018-12-22  2.557506e-02  2.775558e-14  1.871346e-03  1.671735e-01   9.431581   \n",
       "2018-12-23  7.485382e-03  2.775558e-14  6.861601e-03  2.775558e-14   2.455205   \n",
       "2018-12-24  2.775558e-14  2.775558e-14  2.775558e-14  2.775558e-14   1.244445   \n",
       "2018-12-25  2.775558e-14  2.775558e-14  2.775558e-14  2.775558e-14   0.033684   \n",
       "2018-12-26  2.775558e-14  2.775558e-14  2.775558e-14  2.775558e-14   0.000624   \n",
       "2018-12-27  2.775558e-14  2.775558e-14  2.775558e-14  1.933724e-02   0.069864   \n",
       "2018-12-28  3.118909e-03  4.678364e-02  2.775558e-14  2.775558e-14   0.406082   \n",
       "2018-12-29  1.497076e-01  3.368422e-02  2.931775e-02  1.556960e+00   0.657466   \n",
       "2018-12-30  1.054191e-01  7.984407e-02  2.145810e-01  3.755167e-01   0.499025   \n",
       "2018-12-31  2.081668e-14  4.366473e-03  2.081668e-14  4.990255e-03   0.211462   \n",
       "\n",
       "                    5             6          7  \n",
       "1979-01-01   0.271283  5.192012e-03   0.005192  \n",
       "1979-01-02   0.861874  1.518663e-01   0.036993  \n",
       "1979-01-03   0.377719  4.218510e-02   0.051271  \n",
       "1979-01-04   0.691187  1.947004e-01   0.168091  \n",
       "1979-01-05   1.654954  1.306440e+00   0.503625  \n",
       "1979-01-06   4.120511  3.489681e+00   0.372527  \n",
       "1979-01-07   7.398617  8.547349e-01   1.763986  \n",
       "1979-01-08   2.451928  3.744738e-01   0.887185  \n",
       "1979-01-09   0.208978  1.849654e-01   0.581505  \n",
       "1979-01-10   0.310223  5.127111e-02   0.757385  \n",
       "1979-01-11   0.043483  1.291513e-01   0.375123  \n",
       "1979-01-12   0.072688  5.841013e-02   0.364090  \n",
       "1979-01-13   0.025960  1.362903e-01   0.121363  \n",
       "1979-01-14   0.520499  9.086021e-02   0.450407  \n",
       "1979-01-15   1.964527  4.530030e-01   0.492592  \n",
       "1979-01-16   2.126129  1.888594e-01   0.778802  \n",
       "1979-01-17   0.260250  1.207143e-01   0.318660  \n",
       "1979-01-18   0.066847  1.934024e-01   0.329693  \n",
       "1979-01-19   0.736617  1.377830e+00   0.872907  \n",
       "1979-01-20   5.131654  3.298226e+00   0.517903  \n",
       "1979-01-21   2.009309  1.022177e+00   0.819689  \n",
       "1979-01-22   2.433755  3.051605e+00   1.103302  \n",
       "1979-01-23  11.658013  5.328302e-01   0.614604  \n",
       "1979-01-24   2.074209  5.010291e-01   0.437427  \n",
       "1979-01-25   2.860150  3.942684e+00   0.347216  \n",
       "1979-01-26   2.828997  1.027369e+00   0.535426  \n",
       "1979-01-27   2.152089  7.788017e-01   0.181720  \n",
       "1979-01-28   4.972000  3.861559e-01   0.344620  \n",
       "1979-01-29  41.682770  1.765284e-01  27.822693  \n",
       "1979-01-30   8.778394  1.542027e+00  16.250998  \n",
       "...               ...           ...        ...  \n",
       "2018-12-02   3.163198  5.139962e-01   0.368655  \n",
       "2018-12-03   1.494581  4.834309e-01   1.259416  \n",
       "2018-12-04   2.331697  2.195088e+00   0.577622  \n",
       "2018-12-05   1.101599  2.938012e-01   0.444133  \n",
       "2018-12-06   1.808344  1.161482e+00   0.490293  \n",
       "2018-12-07   0.623782  4.378325e+00   0.886394  \n",
       "2018-12-08  11.364058  1.858870e-01   0.305029  \n",
       "2018-12-09   3.240547  9.400392e-01   1.845147  \n",
       "2018-12-10   7.618872  5.105031e+00   8.172790  \n",
       "2018-12-11   8.144095  9.606240e-02   0.355556  \n",
       "2018-12-12   1.049825  6.899027e-01   0.966862  \n",
       "2018-12-13   3.768266  5.573491e+00   0.829006  \n",
       "2018-12-14   2.776453  1.146511e+00   0.355556  \n",
       "2018-12-15   4.024017  5.364524e-02   0.384250  \n",
       "2018-12-16   0.544562  5.115011e-02   0.240156  \n",
       "2018-12-17   0.217076  9.356728e-03   0.106667  \n",
       "2018-12-18   0.576998  3.493179e-02   0.180273  \n",
       "2018-12-19   3.425810  2.931775e-02   1.202651  \n",
       "2018-12-20   2.964835  1.871346e-03   0.060507  \n",
       "2018-12-21   2.468305  2.775558e-14   0.026823  \n",
       "2018-12-22   1.601248  6.300196e-02   0.390487  \n",
       "2018-12-23   3.321015  2.775558e-14   0.547057  \n",
       "2018-12-24   0.707992  2.775558e-14   0.374893  \n",
       "2018-12-25   0.765380  2.775558e-14   0.098558  \n",
       "2018-12-26   0.169045  1.247564e-03   0.157817  \n",
       "2018-12-27   0.230175  6.237818e-04   0.426667  \n",
       "2018-12-28   0.257622  8.732947e-03   0.135361  \n",
       "2018-12-29   0.759143  3.805069e-02   0.184016  \n",
       "2018-12-30   1.168343  2.495127e-03   0.143470  \n",
       "2018-12-31   0.026823  8.732947e-03   0.469769  \n",
       "\n",
       "[14600 rows x 8 columns]"
      ]
     },
     "execution_count": 14,
     "metadata": {},
     "output_type": "execute_result"
    }
   ],
   "source": [
    "# we need to do a technical conversion to retrieve only the gridcells of Kenya\n",
    "np_pr_kenya = np.reshape(pr_kenya.values, (pr_kenya.time.size, -1))\n",
    "mask_NanIsFalse   = ~np.isnan(np_pr_kenya) # where are values not NaN \n",
    "# select only where values not NaN (Kenya gridcells)\n",
    "pr_kenya_v  = np_pr_kenya[mask_NanIsFalse].reshape( pr_kenya.time.size, -1) \n",
    "# make a pandas dataframe\n",
    "df_kenya = pd.DataFrame(pr_kenya_v, index=pd.to_datetime(pr_kenya.time.values)) \n",
    "\n",
    "# single gridcell\n",
    "i_gridcell = 0\n",
    "df_gs = df_kenya[i_gridcell]\n",
    "df_kenya"
   ]
  },
  {
   "cell_type": "markdown",
   "metadata": {},
   "source": [
    "### 3 - step 1: Apply rolling sum"
   ]
  },
  {
   "cell_type": "code",
   "execution_count": 15,
   "metadata": {},
   "outputs": [],
   "source": [
    "SPI_aggr = 1\n",
    "months = [1, 3, 6]\n",
    "days = [31, 91, 183]\n",
    "SPI_to_days = {months[i]:days[i] for i in range(len(months))}\n",
    "SPI_window = SPI_to_days[SPI_aggr]\n",
    "\n",
    "# the following line calculates a sum of window size {SPI_aggr}, using equal weights. \n",
    "df_kenya = df_gs.rolling(window=SPI_window, min_periods=1, center=True, axis=0).sum()"
   ]
  },
  {
   "cell_type": "markdown",
   "metadata": {},
   "source": [
    "### 3 - step 2: Fit distribution for single gridcell and single day of year"
   ]
  },
  {
   "cell_type": "code",
   "execution_count": 16,
   "metadata": {},
   "outputs": [
    {
     "data": {
      "image/png": "[encoded data removed]",
      "text/plain": [
       "<Figure size 2160x720 with 1 Axes>"
      ]
     },
     "metadata": {},
     "output_type": "display_data"
    }
   ],
   "source": [
    "# Because we are calculating SPI-{n} for each day of the year by using the rolling sum approach,\n",
    "# we only need to select a single day to represent a n-month aggregation. \n",
    "\n",
    "# to select the SPI for month m (with 1 = jan and 12 = Dec):\n",
    "m = 4\n",
    "dates = df_gs.index\n",
    "doy = int(np.mean(dates.dayofyear[dates.month == m])) # central dayofyear for the given month {m}\n",
    "\n",
    "df_gs_m = df_gs[dates.dayofyear == doy]\n",
    "\n",
    "# Fit Gamma distibution\n",
    "# note floc avoids loc being fitted, see Stagge et al. 2015\n",
    "a, loc, scale = stats.gamma.fit(df_gs_m.values, loc=0) # fit parameters of gamma distribution to SPI data \n",
    "params = [a, loc, scale]\n",
    "rv = stats.gamma(*params) # Continuous random variable class, can sample randomly from the gamma distribution we just fitted  \n",
    "\n",
    "\n",
    "fig = plt.figure(figsize=(30,10) )\n",
    "l1=plt.plot(df_gs_m, '.k', markersize=20, color='b')\n",
    "plt.ylabel('',size=15)\n",
    "plt.title('',size=25)\n",
    "plt.show()"
   ]
  },
  {
   "cell_type": "markdown",
   "metadata": {},
   "source": [
    "### 3 - Intermediate step: Using Kolmogorov-Smirnov test to test goodness-of-fit:"
   ]
  },
  {
   "cell_type": "code",
   "execution_count": 17,
   "metadata": {},
   "outputs": [
    {
     "name": "stdout",
     "output_type": "stream",
     "text": [
      "pvalue:  0.8384860837169877\n"
     ]
    }
   ],
   "source": [
    "params = [a, loc, scale]\n",
    "D, p = stats.kstest(df_gs_m, 'gamma', args=params)  \n",
    "print('pvalue: ', p)"
   ]
  },
  {
   "cell_type": "markdown",
   "metadata": {},
   "source": [
    "**Question 2**: Discuss whether the presented pvalue is sufficient. What hypothesis does the K-S test actually tests? "
   ]
  },
  {
   "cell_type": "code",
   "execution_count": 18,
   "metadata": {},
   "outputs": [
    {
     "data": {
      "text/plain": [
       "Text(0.5,1,'Raw data')"
      ]
     },
     "execution_count": 18,
     "metadata": {},
     "output_type": "execute_result"
    },
    {
     "data": {
      "image/png": "[encoded data removed]",
      "text/plain": [
       "<Figure size 2160x720 with 2 Axes>"
      ]
     },
     "metadata": {},
     "output_type": "display_data"
    }
   ],
   "source": [
    "# df_gs_m is precipitation of single gridcel for a single month, with a single value for each year\n",
    "\n",
    "fig = plt.figure(figsize=(30,10) )\n",
    "# plot observed values\n",
    "ax1 = plt.subplot(1, 2, 1)\n",
    "vals = ax1.hist(df_gs_m, density=True, bins=20, label='Dist. Data')\n",
    "# plot fitted distribution\n",
    "x = np.linspace(stats.gamma.ppf(0.01, a, loc=loc, scale=scale),\n",
    "                stats.gamma.ppf(0.99, a, loc=loc, scale=scale), 100)\n",
    "ax1.plot(x[1:], rv.pdf(x)[1:], 'k-', lw=2, label='Gamma dist. fitted')\n",
    "ax1.legend(loc='best')\n",
    "ax1.set_title(f\"K-S test pvalue: {round(p, 2)}\", fontsize=25)\n",
    "\n",
    "ax2 = plt.subplot(1, 2, 2)\n",
    "ax2.plot(df_gs_m,'.k');\n",
    "ax2.set_title('Raw data')"
   ]
  },
  {
   "cell_type": "markdown",
   "metadata": {},
   "source": [
    "### 3 - step 3: Transform to standard normal distribution"
   ]
  },
  {
   "cell_type": "code",
   "execution_count": 19,
   "metadata": {},
   "outputs": [],
   "source": [
    "# 3c. Transform to standard normal distribution (and account for zero values (cfr.Stagge et al. 2015))  \n",
    "indices_nonzero = np.nonzero(df_gs_m)[0]\n",
    "nyears_zero = len(df_gs_m) - np.count_nonzero(df_gs_m)\n",
    "ratio_zeros = nyears_zero / len(df_gs_m)\n",
    "\n",
    "p_zero_mean = (nyears_zero + 1) / (2 * (len(df_gs_m) + 1))           \n",
    "\n",
    "prob_gamma = (df_gs_m * 0 ) + p_zero_mean\n",
    "# probability of values, given the Gamma distribution\n",
    "prob_gamma[indices_nonzero] = ratio_zeros+((1-ratio_zeros)*rv.cdf(df_gs_m[indices_nonzero]))\n",
    "\n",
    "# Transform \n",
    "prob_std = stats.norm.ppf(prob_gamma)                                   \n",
    "prob_std[prob_std>3] = 3\n",
    "prob_std[prob_std<-3] = -3 "
   ]
  },
  {
   "cell_type": "code",
   "execution_count": 20,
   "metadata": {},
   "outputs": [
    {
     "data": {
      "text/plain": [
       "Text(0.5,0,'SPI')"
      ]
     },
     "execution_count": 20,
     "metadata": {},
     "output_type": "execute_result"
    },
    {
     "data": {
      "image/png": "[encoded data removed]",
      "text/plain": [
       "<Figure size 1440x720 with 2 Axes>"
      ]
     },
     "metadata": {},
     "output_type": "display_data"
    }
   ],
   "source": [
    "fig = plt.figure(figsize=(20,10) )\n",
    "\n",
    "# plot observed values\n",
    "ax1 = plt.subplot(1, 2, 1)\n",
    "vals = ax1.plot(df_gs_m, prob_gamma, '.k');\n",
    "ax1.set_ylabel('Cumulative probability')\n",
    "ax1.set_xlabel('Aggregated Precipitation [mm]')\n",
    "\n",
    "\n",
    "ax1 = plt.subplot(1, 2, 2)\n",
    "vals = ax1.plot(prob_std, prob_gamma, '.k');\n",
    "ax1.set_ylabel('Cumulative probability')\n",
    "ax1.set_xlabel('SPI')\n"
   ]
  },
  {
   "cell_type": "markdown",
   "metadata": {},
   "source": [
    "**Question 2:** Explain in words what information you can deduce from these two figures? For example, why is the Gamma distribution increasing sharply at low values compared to the standard normal distribution?   "
   ]
  },
  {
   "cell_type": "markdown",
   "metadata": {},
   "source": [
    "**Question 3:** Explain in your own words why the conversion from gamma to standard normal distribution is desirable when quantifying drought."
   ]
  },
  {
   "cell_type": "markdown",
   "metadata": {},
   "source": [
    "# 4: Functions to calculate SPI \n",
    "What we have done in step 3, will now be written into a funciton which calculates SPI for a given gridcell on a specific day of year. Subsequently, we have written down a fuction that loops over all gridcells and days and store the results in an new xarray object."
   ]
  },
  {
   "cell_type": "code",
   "execution_count": null,
   "metadata": {},
   "outputs": [],
   "source": [
    "def calc_SPI_gs_doy(df_gs, doy):\n",
    "    '''\n",
    "    Calculates SPI for a given gridcell on a specific day of year\n",
    "    '''\n",
    "    # step 2: \n",
    "    # fit distribution\n",
    "    df_gs_m = df_gs[df_gs.index.dayofyear == doy]\n",
    "    # note floc avoids loc being fitted, see Stagge et al. 2015\n",
    "    params = stats.gamma.fit(df_gs_m.values, loc=0) # fit parameters of gamma distribution to SPI data \n",
    "    rv = stats.gamma(*params) # Continuous random variable class, can sample randomly from the gamma distribution we just fitted  \n",
    "    \n",
    "    # Account for zero values (cfr.Stagge et al. 2015))  \n",
    "    indices_nonzero = np.nonzero(df_gs_m)[0]\n",
    "    nyears_zero = len(df_gs_m) - np.count_nonzero(df_gs_m)\n",
    "    ratio_zeros = nyears_zero / len(df_gs_m)\n",
    "\n",
    "    p_zero_mean = (nyears_zero + 1) / (2 * (len(df_gs_m) + 1))           \n",
    "    prob_gamma = (df_gs_m * 0 ) + p_zero_mean\n",
    "    # probability of values, given the Gamma distribution and excluding zeros\n",
    "    prob_gamma[indices_nonzero] = ratio_zeros+((1-ratio_zeros)*rv.cdf(df_gs_m[indices_nonzero]))\n",
    "    \n",
    "    # Step 3:\n",
    "    # Transform Gamma probabilities to standard normal probabilities\n",
    "    prob_std = stats.norm.ppf(prob_gamma)                                   \n",
    "    prob_std[prob_std>3] = 3\n",
    "    prob_std[prob_std<-3] = -3 \n",
    "    return prob_std\n",
    "\n",
    "def calc_SPI_gs_pentad(df_gs, p):\n",
    "    '''\n",
    "    For a given dataframe, the centered single date for the pentad is taken and passed to calc_SPI_gs_doy(df_gs, doy).\n",
    "    There 73 pentads of 5 in 365 days, hence p should be in range (0,73)\n",
    "    '''\n",
    "    i = np.arange(0,365, 5)[p]\n",
    "    dates = df_gs.index\n",
    "    idx_pentad = np.arange(i, dates.size, 365, dtype=int)\n",
    "    doy = int(np.mean(dates[idx_pentad].dayofyear)) # central dayofyear for the given month {m}\n",
    "    prob_std = calc_SPI_gs_doy(df_gs, doy)\n",
    "    return prob_std\n",
    "\n",
    "def calc_SPI_gs_month(df_gs, month):\n",
    "    '''\n",
    "    For a given dataframe,  the centered single date for the {month} is taken and passed to calc_SPI_gs_doy(df_gs, doy).\n",
    "    There 73 pentads of 5 in 365 days, hence p should be in range (0,73)\n",
    "    '''\n",
    "    # to select the SPI for month m (with 1 = jan and 12 = Dec):\n",
    "    m = month\n",
    "    dates = df_gs.index\n",
    "    doy = int(np.mean(dates.dayofyear[dates.month == m])) # central dayofyear for the given month {m}\n",
    "    prob_std = calc_SPI_gs_doy(df_gs, doy)\n",
    "    return prob_std\n",
    "\n"
   ]
  },
  {
   "cell_type": "code",
   "execution_count": null,
   "metadata": {},
   "outputs": [],
   "source": [
    "def calc_SPI_from_daily(xarray, SPI_aggr, freq='months'):\n",
    "    '''\n",
    "    Function extracts the values of xarray that are not nans \n",
    "    and will pass them to calc_SPI_gs_. \n",
    "    One can choose to calculate SPI for all days, or for each month or pentad (5-day bins).\n",
    "    Advisably, stick to monthly or pentads, for computational reasons.\n",
    "    '''\n",
    "\n",
    "    # Step 1: SPI monthly windowed aggregation\n",
    "    months = [1, 2, 3, 6, 9, 12, 24]\n",
    "    days = [31, 61, 91, 183, 274, 365, 730]\n",
    "    SPI_to_days = {months[i]:days[i] for i in range(len(months))}\n",
    "    SPI_window = SPI_to_days[SPI_aggr]\n",
    "    dates = pd.to_datetime(xarray.time.values)\n",
    "    n_yrs = np.unique(dates.year)\n",
    "\n",
    "    # Finding only the non-NaN gridcells \n",
    "    np_pr = np.reshape(xarray.values, (dates.size, -1))\n",
    "    n_gs_total = np_pr.shape[1]\n",
    "    mask_NanIsFalse   = ~np.isnan(np_pr) # where are values not NaN \n",
    "    # Select only the non-NaN gridcells, and cast to dataframe.\n",
    "    pr_no_nans  = np_pr[mask_NanIsFalse].reshape( dates.size, -1) \n",
    "    df_no_nans = pd.DataFrame(pr_no_nans, index=dates) # make a pandas dataframe\n",
    "    # Calculate a sum of window size {SPI_aggr[months]}, using equal weights. \n",
    "    df_no_nans = df_no_nans.rolling(window=SPI_window, min_periods=1, center=True, axis=0).sum()\n",
    "    n_gs_no_nans = int(df_no_nans.columns.size)\n",
    "\n",
    "    # loop over gridcells cells and specific day of year\n",
    "    for i, gs in enumerate(df_no_nans.columns):\n",
    "        if freq == 'daily':\n",
    "            new_dates = dates\n",
    "            if i == 0:\n",
    "                np_tofill = np.zeros( dates.dayofyear.size,  n_gs_no_nans)\n",
    "            for doy in np.unique(dates.dayofyear):\n",
    "                mask_doy = dates.dayofyear == doy\n",
    "                np_tofill[mask_doy,i] = calc_SPI_gs_doy(df_no_nans[gs], doy)\n",
    "                \n",
    "        if freq == 'pentads':\n",
    "            np_tofill = np.zeros( (int(dates.size/5),  n_gs_no_nans)) \n",
    "            new_dates = []\n",
    "            for p, d in enumerate(range(0,365,5)):\n",
    "                x = np.arange(d, dates.size, 365, dtype=int)\n",
    "                new_dates.append(dates[x])\n",
    "                if i == 0:\n",
    "                    mask_NanIsFalse = mask_NanIsFalse[:new_dates.size]\n",
    "                    idx_fill = np.arange(p, int(dates.size/5), 73)\n",
    "                np_tofill[idx_fill,i] = calc_SPI_gs_pentad(df_no_nans[gs], p)\n",
    "            new_dates = pd.to_datetime(sorted(np.concatenate(new_dates)))\n",
    "            \n",
    "        if freq == 'months':\n",
    "            new_dates = xarray.resample(time='M', \n",
    "                                        label='left').mean().time.values \n",
    "            new_dates = pd.to_datetime(new_dates + pd.Timedelta('1D'))\n",
    "            if i == 0:\n",
    "                mask_NanIsFalse = mask_NanIsFalse[:new_dates.size]\n",
    "                np_tofill = np.zeros( (new_dates.size,  n_gs_no_nans)) \n",
    "            for m in range(1,13):\n",
    "                idx_fill = np.arange(m-1, new_dates.size, 12)\n",
    "                np_tofill[idx_fill,i] = calc_SPI_gs_month(df_no_nans[gs], m)\n",
    "\n",
    "            \n",
    "\n",
    "    # return values in there original position\n",
    "    np_time_space = np.zeros( (new_dates.size, n_gs_total) )\n",
    "    np_time_space[mask_NanIsFalse] = np_tofill.ravel()\n",
    "    np_latlon = np.reshape(np_time_space, (new_dates.size, \n",
    "                                           xarray.latitude.size, \n",
    "                                           xarray.longitude.size))\n",
    "\n",
    "    # return xarray with same dimensions:\n",
    "    dates = pd.to_datetime(new_dates)\n",
    "    SPI_xr = xr.DataArray(np_latlon, coords=[dates, \n",
    "                                             xarray.latitude, xarray.longitude],\n",
    "                            dims=['time', 'latitude', 'longitude'])\n",
    "    mask_nans = mask_NanIsFalse[0].reshape(xarray.latitude.size, \n",
    "                                           xarray.longitude.size)\n",
    "    mask = (('latitude', 'longitude'), mask_nans)\n",
    "    SPI_xr['mask'] = mask\n",
    "    SPI_xr.attrs['units'] = '[std]'\n",
    "    return SPI_xr"
   ]
  },
  {
   "cell_type": "markdown",
   "metadata": {},
   "source": [
    "# 5: Calculate SPI for Kenya gridpoints"
   ]
  },
  {
   "cell_type": "code",
   "execution_count": null,
   "metadata": {},
   "outputs": [],
   "source": [
    "SPI_aggr = 6\n",
    "freq = 'months' # can be ['months', 'pentads', 'daily']\n",
    "SPI_xr = calc_SPI_from_daily(pr_kenya, SPI_aggr=SPI_aggr, freq=freq)"
   ]
  },
  {
   "cell_type": "markdown",
   "metadata": {},
   "source": [
    "**Question 4:** Without any calculation, what will be the climatological value of SPI (mean value over time). You can check by calculating and plotting the climatology like was done above in Section 2a.\n",
    "i.e. {xarray}.mean(dim='time').plot.contourf()"
   ]
  },
  {
   "cell_type": "markdown",
   "metadata": {},
   "source": [
    "# 6: Calculate ENSO 3.4 index"
   ]
  },
  {
   "cell_type": "markdown",
   "metadata": {},
   "source": [
    "Load Sea Surface Temperature (sst) data"
   ]
  },
  {
   "cell_type": "code",
   "execution_count": null,
   "metadata": {},
   "outputs": [],
   "source": [
    "sst_Pac  = core_pp.import_ds_lazy(sst_Pacific, format_lon='only_east')"
   ]
  },
  {
   "cell_type": "markdown",
   "metadata": {},
   "source": [
    "### 3a: Calculating a spatial mean\n",
    "When calculating a spatial mean, one has to take into account that the earth is round, \n",
    "meaning that the equally spaced gridboxes do not represent equal surfaces of the earth. Admittendly, it will not matter much for countries close to the equator, but it is the neat thing to do. The function to take into account the differences in gridbox sizes is defined in the next cell."
   ]
  },
  {
   "cell_type": "code",
   "execution_count": null,
   "metadata": {},
   "outputs": [],
   "source": [
    "def area_weighted(xarray):\n",
    "   # Area weighted, taking cos of latitude in radians     \n",
    "    coslat = np.cos(np.deg2rad(xarray.coords['latitude'].values)).clip(0., 1.)\n",
    "    area_weights = np.tile(coslat[..., np.newaxis],(1,xarray.longitude.size))\n",
    "    area_weights = area_weights / area_weights.mean()\n",
    "    return xr.DataArray(xarray.values * area_weights, coords=xarray.coords, \n",
    "                          dims=xarray.dims)"
   ]
  },
  {
   "cell_type": "markdown",
   "metadata": {},
   "source": [
    "Like done before, we can easily select the dimensions over which we want to do a computation. Thus for calculating the spatial mean we simply type:"
   ]
  },
  {
   "cell_type": "code",
   "execution_count": null,
   "metadata": {},
   "outputs": [],
   "source": [
    "sst_enso = sst_Pac.sel(latitude=slice(10,-10), longitude=slice(190,240))\n",
    "# non-normalized timeseries\n",
    "Enso_34_raw = area_weighted(sst_enso).mean(dim=('latitude','longitude'))"
   ]
  },
  {
   "cell_type": "markdown",
   "metadata": {},
   "source": [
    "### 6b: Calculate SPI timeseries for Kenya"
   ]
  },
  {
   "cell_type": "code",
   "execution_count": null,
   "metadata": {},
   "outputs": [],
   "source": [
    "SPI_Kenya_ts = area_weighted(SPI_xr).where(SPI_xr['mask']).mean(\n",
    "                                            dim=('latitude','longitude'))"
   ]
  },
  {
   "cell_type": "markdown",
   "metadata": {},
   "source": [
    "**Action**: In the cell below, standardize both the SPI and ENSO_34_raw timeseries."
   ]
  },
  {
   "cell_type": "markdown",
   "metadata": {},
   "source": [
    "You standardize the data by subtracting the mean and divide by standard deviation.\n",
    "The standard deviation is calculating similar to who we calculate the mean, i.e. {yourxarray}.std(dim='time').\n",
    "Write the output of the standardized timeseries to Enso_34_standard and SPI_Kenya_standard"
   ]
  },
  {
   "cell_type": "code",
   "execution_count": 1,
   "metadata": {},
   "outputs": [
    {
     "ename": "SyntaxError",
     "evalue": "invalid syntax (<ipython-input-1-ca896a2400d1>, line 1)",
     "output_type": "error",
     "traceback": [
      "\u001b[0;36m  File \u001b[0;32m\"<ipython-input-1-ca896a2400d1>\"\u001b[0;36m, line \u001b[0;32m1\u001b[0m\n\u001b[0;31m    Enso_34_standard   = #... your calculation ... #\u001b[0m\n\u001b[0m                                                    ^\u001b[0m\n\u001b[0;31mSyntaxError\u001b[0m\u001b[0;31m:\u001b[0m invalid syntax\n"
     ]
    }
   ],
   "source": [
    "Enso_34_standard   = #... your calculation ... #\n",
    "SPI_Kenya_standard = #... your calculation ... #"
   ]
  },
  {
   "cell_type": "markdown",
   "metadata": {},
   "source": [
    "In the cell below, we select the dates for which the SPI is calculated."
   ]
  },
  {
   "cell_type": "code",
   "execution_count": 6,
   "metadata": {},
   "outputs": [
    {
     "ename": "NameError",
     "evalue": "name 'pd' is not defined",
     "output_type": "error",
     "traceback": [
      "\u001b[0;31m---------------------------------------------------------------------------\u001b[0m",
      "\u001b[0;31mNameError\u001b[0m                                 Traceback (most recent call last)",
      "\u001b[0;32m<ipython-input-6-71c6f3e7a7e5>\u001b[0m in \u001b[0;36m<module>\u001b[0;34m()\u001b[0m\n\u001b[0;32m----> 1\u001b[0;31m \u001b[0mdates_SPI\u001b[0m \u001b[0;34m=\u001b[0m \u001b[0mpd\u001b[0m\u001b[0;34m.\u001b[0m\u001b[0mto_datetime\u001b[0m\u001b[0;34m(\u001b[0m\u001b[0mSPI_Kenya_ts\u001b[0m\u001b[0;34m.\u001b[0m\u001b[0mtime\u001b[0m\u001b[0;34m.\u001b[0m\u001b[0mvalues\u001b[0m\u001b[0;34m)\u001b[0m\u001b[0;34m\u001b[0m\u001b[0m\n\u001b[0m\u001b[1;32m      2\u001b[0m \u001b[0mEnso_34\u001b[0m   \u001b[0;34m=\u001b[0m \u001b[0mEnso_34_standard\u001b[0m\u001b[0;34m.\u001b[0m\u001b[0msel\u001b[0m\u001b[0;34m(\u001b[0m\u001b[0mtime\u001b[0m\u001b[0;34m=\u001b[0m\u001b[0mdates_SPI\u001b[0m\u001b[0;34m)\u001b[0m\u001b[0;34m\u001b[0m\u001b[0m\n",
      "\u001b[0;31mNameError\u001b[0m: name 'pd' is not defined"
     ]
    }
   ],
   "source": [
    "dates_SPI = pd.to_datetime(SPI_Kenya_ts.time.values)\n",
    "Enso_34   = Enso_34_standard.sel(time=dates_SPI) "
   ]
  },
  {
   "cell_type": "markdown",
   "metadata": {},
   "source": [
    "# 7: Link between ENSO and Kenya drought?"
   ]
  },
  {
   "cell_type": "markdown",
   "metadata": {},
   "source": [
    "## 7a: Visualizing timeseries"
   ]
  },
  {
   "cell_type": "code",
   "execution_count": 3,
   "metadata": {},
   "outputs": [
    {
     "ename": "NameError",
     "evalue": "name 'plt' is not defined",
     "output_type": "error",
     "traceback": [
      "\u001b[0;31m---------------------------------------------------------------------------\u001b[0m",
      "\u001b[0;31mNameError\u001b[0m                                 Traceback (most recent call last)",
      "\u001b[0;32m<ipython-input-3-f89456820579>\u001b[0m in \u001b[0;36m<module>\u001b[0;34m()\u001b[0m\n\u001b[1;32m      1\u001b[0m \u001b[0;31m# Figure 2\u001b[0m\u001b[0;34m\u001b[0m\u001b[0;34m\u001b[0m\u001b[0m\n\u001b[1;32m      2\u001b[0m \u001b[0;34m\u001b[0m\u001b[0m\n\u001b[0;32m----> 3\u001b[0;31m \u001b[0mfig\u001b[0m \u001b[0;34m=\u001b[0m \u001b[0mplt\u001b[0m\u001b[0;34m.\u001b[0m\u001b[0mfigure\u001b[0m\u001b[0;34m(\u001b[0m\u001b[0mfigsize\u001b[0m\u001b[0;34m=\u001b[0m\u001b[0;34m(\u001b[0m\u001b[0;36m30\u001b[0m\u001b[0;34m,\u001b[0m\u001b[0;36m10\u001b[0m\u001b[0;34m)\u001b[0m \u001b[0;34m)\u001b[0m\u001b[0;34m\u001b[0m\u001b[0m\n\u001b[0m\u001b[1;32m      4\u001b[0m \u001b[0mdates\u001b[0m \u001b[0;34m=\u001b[0m \u001b[0mpd\u001b[0m\u001b[0;34m.\u001b[0m\u001b[0mto_datetime\u001b[0m\u001b[0;34m(\u001b[0m\u001b[0mEnso_34\u001b[0m\u001b[0;34m.\u001b[0m\u001b[0mtime\u001b[0m\u001b[0;34m.\u001b[0m\u001b[0mvalues\u001b[0m\u001b[0;34m)\u001b[0m\u001b[0;34m\u001b[0m\u001b[0m\n\u001b[1;32m      5\u001b[0m l1=plt.plot(dates, Enso_34, color='b', label='ENSO',\n",
      "\u001b[0;31mNameError\u001b[0m: name 'plt' is not defined"
     ]
    }
   ],
   "source": [
    "# Figure 2\n",
    "\n",
    "fig = plt.figure(figsize=(30,10) )\n",
    "dates = pd.to_datetime(Enso_34.time.values)\n",
    "l1=plt.plot(dates, Enso_34, color='b', label='ENSO',\n",
    "           linewidth=3)\n",
    "l2=plt.plot(dates, SPI_Kenya_standard, color='r', label='SPI_Kenya', \n",
    "            linewidth=1, alpha=0.6)\n",
    "\n",
    "plt.legend(loc='best')\n",
    "plt.ylabel('',size=15)\n",
    "plt.title('',size=25)\n",
    "plt.show()\n"
   ]
  },
  {
   "cell_type": "markdown",
   "metadata": {},
   "source": [
    "**Action**: Copy-past the code to make figure 2 and add a smoothend timeseries of SPI by applying a rolling mean with window size = 6 in the figure below. A rolling mean is applied by: {yourxarray}.SPI_Kenya_ts.rolling(time={your_window_size}, \n",
    "                                        center=True, min_periods=1).mean()"
   ]
  },
  {
   "cell_type": "markdown",
   "metadata": {},
   "source": [
    "To make the smoothened timeseries more clear, set the linewidth to 5, change the color and adjust the label."
   ]
  },
  {
   "cell_type": "code",
   "execution_count": null,
   "metadata": {},
   "outputs": [],
   "source": [
    "window_size = 6\n",
    "SPI_Kenya_rm6 = #... your calculation ... #"
   ]
  },
  {
   "cell_type": "markdown",
   "metadata": {},
   "source": [
    "## 7b: Cross-correlation matrix"
   ]
  },
  {
   "cell_type": "markdown",
   "metadata": {},
   "source": [
    "Below, we calculate a cross-correlation matrix using pandas."
   ]
  },
  {
   "cell_type": "code",
   "execution_count": null,
   "metadata": {},
   "outputs": [],
   "source": [
    "data = np.concatenate([Enso_34.values[:,None], \n",
    "                       SPI_Kenya_standard.values[:,None], \n",
    "                       SPI_Kenya_rm6.values[:,None]], axis=1)\n",
    "\n",
    "dates = pd.to_datetime(SPI_Kenya_standard.time.values)\n",
    "df = pd.DataFrame(data, columns=['Enso_34', 'SPI_Kenya', \n",
    "                                 f\"SPI_Kenya rm{window_size}\"],\n",
    "                                index=dates)\n",
    "df.corr()"
   ]
  },
  {
   "cell_type": "markdown",
   "metadata": {},
   "source": [
    "**Question** 6: What is **your** interpretation of the results of 7a and 7b? (insert figure)"
   ]
  },
  {
   "cell_type": "markdown",
   "metadata": {},
   "source": [
    "Using stats.pearsonr(ts1,ts2) you can calculate the Pearson correlation coefficient and the concomitant p-values. \n",
    "Tip: if you want to see what a function does, create a new cell, type the function and add ? behind the function. E.g. stats.pearsonr?"
   ]
  },
  {
   "cell_type": "markdown",
   "metadata": {},
   "source": [
    "**Question 7**: Find out if ENSO is indeed significantly influencing drought in Kenya? (insert screenshot of the code)"
   ]
  },
  {
   "cell_type": "code",
   "execution_count": null,
   "metadata": {},
   "outputs": [],
   "source": []
  },
  {
   "cell_type": "markdown",
   "metadata": {},
   "source": [
    "**Question 8**: What do you think that would happen if we aggregate SPI over very long or short time windows? Re-run the code starting from Step 5 and fill in 1 months and 24 months. What happends to the correlation coefficient (r) and the p-value? "
   ]
  }
 ],
 "metadata": {
  "kernelspec": {
   "display_name": "Python 3",
   "language": "python",
   "name": "python3"
  },
  "language_info": {
   "codemirror_mode": {
    "name": "ipython",
    "version": 3
   },
   "file_extension": ".py",
   "mimetype": "text/x-python",
   "name": "python",
   "nbconvert_exporter": "python",
   "pygments_lexer": "ipython3",
   "version": "3.6.5"
  }
 },
 "nbformat": 4,
 "nbformat_minor": 2
}
